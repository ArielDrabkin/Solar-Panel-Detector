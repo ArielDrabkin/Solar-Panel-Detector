{
 "nbformat": 4,
 "nbformat_minor": 0,
 "metadata": {
  "colab": {
   "provenance": [],
   "gpuType": "T4"
  },
  "kernelspec": {
   "name": "python3",
   "display_name": "Python 3"
  },
  "language_info": {
   "name": "python"
  },
  "accelerator": "GPU"
 },
 "cells": [
  {
   "cell_type": "code",
   "execution_count": 9,
   "metadata": {
    "colab": {
     "base_uri": "https://localhost:8080/"
    },
    "id": "k3CBdckmnZ91",
    "outputId": "8b13896e-a611-4b80-8f76-4e3dc16c36ce"
   },
   "outputs": [
    {
     "output_type": "stream",
     "name": "stdout",
     "text": [
      "Sun Dec 10 13:59:09 2023       \n",
      "+-----------------------------------------------------------------------------+\n",
      "| NVIDIA-SMI 525.105.17   Driver Version: 525.105.17   CUDA Version: 12.0     |\n",
      "|-------------------------------+----------------------+----------------------+\n",
      "| GPU  Name        Persistence-M| Bus-Id        Disp.A | Volatile Uncorr. ECC |\n",
      "| Fan  Temp  Perf  Pwr:Usage/Cap|         Memory-Usage | GPU-Util  Compute M. |\n",
      "|                               |                      |               MIG M. |\n",
      "|===============================+======================+======================|\n",
      "|   0  Tesla T4            Off  | 00000000:00:04.0 Off |                    0 |\n",
      "| N/A   45C    P8     9W /  70W |      0MiB / 15360MiB |      0%      Default |\n",
      "|                               |                      |                  N/A |\n",
      "+-------------------------------+----------------------+----------------------+\n",
      "                                                                               \n",
      "+-----------------------------------------------------------------------------+\n",
      "| Processes:                                                                  |\n",
      "|  GPU   GI   CI        PID   Type   Process name                  GPU Memory |\n",
      "|        ID   ID                                                   Usage      |\n",
      "|=============================================================================|\n",
      "|  No running processes found                                                 |\n",
      "+-----------------------------------------------------------------------------+\n"
     ]
    }
   ],
   "source": [
    "!nvidia-smi"
   ]
  },
  {
   "cell_type": "code",
   "source": [
    "!pip install ultralytics"
   ],
   "metadata": {
    "colab": {
     "base_uri": "https://localhost:8080/"
    },
    "id": "tCLmhlEGDLfz",
    "outputId": "4a6988d7-c396-40a8-dc03-1d8a3c294f87"
   },
   "execution_count": 2,
   "outputs": [
    {
     "output_type": "stream",
     "name": "stdout",
     "text": [
      "Collecting ultralytics\n",
      "  Downloading ultralytics-8.0.225-py3-none-any.whl (660 kB)\n",
      "\u001B[?25l     \u001B[90m━━━━━━━━━━━━━━━━━━━━━━━━━━━━━━━━━━━━━━━━\u001B[0m \u001B[32m0.0/660.1 kB\u001B[0m \u001B[31m?\u001B[0m eta \u001B[36m-:--:--\u001B[0m\r\u001B[2K     \u001B[91m━━━\u001B[0m\u001B[91m╸\u001B[0m\u001B[90m━━━━━━━━━━━━━━━━━━━━━━━━━━━━━━━━━━━━\u001B[0m \u001B[32m61.4/660.1 kB\u001B[0m \u001B[31m2.0 MB/s\u001B[0m eta \u001B[36m0:00:01\u001B[0m\r\u001B[2K     \u001B[91m━━━━━━━━━━━━━━━━━━━━━━━━━━\u001B[0m\u001B[91m╸\u001B[0m\u001B[90m━━━━━━━━━━━━━\u001B[0m \u001B[32m440.3/660.1 kB\u001B[0m \u001B[31m6.9 MB/s\u001B[0m eta \u001B[36m0:00:01\u001B[0m\r\u001B[2K     \u001B[90m━━━━━━━━━━━━━━━━━━━━━━━━━━━━━━━━━━━━━━━━\u001B[0m \u001B[32m660.1/660.1 kB\u001B[0m \u001B[31m6.9 MB/s\u001B[0m eta \u001B[36m0:00:00\u001B[0m\n",
      "\u001B[?25hRequirement already satisfied: matplotlib>=3.3.0 in /usr/local/lib/python3.10/dist-packages (from ultralytics) (3.7.1)\n",
      "Requirement already satisfied: numpy>=1.22.2 in /usr/local/lib/python3.10/dist-packages (from ultralytics) (1.23.5)\n",
      "Requirement already satisfied: opencv-python>=4.6.0 in /usr/local/lib/python3.10/dist-packages (from ultralytics) (4.8.0.76)\n",
      "Requirement already satisfied: pillow>=7.1.2 in /usr/local/lib/python3.10/dist-packages (from ultralytics) (9.4.0)\n",
      "Requirement already satisfied: pyyaml>=5.3.1 in /usr/local/lib/python3.10/dist-packages (from ultralytics) (6.0.1)\n",
      "Requirement already satisfied: requests>=2.23.0 in /usr/local/lib/python3.10/dist-packages (from ultralytics) (2.31.0)\n",
      "Requirement already satisfied: scipy>=1.4.1 in /usr/local/lib/python3.10/dist-packages (from ultralytics) (1.11.4)\n",
      "Requirement already satisfied: torch>=1.8.0 in /usr/local/lib/python3.10/dist-packages (from ultralytics) (2.1.0+cu118)\n",
      "Requirement already satisfied: torchvision>=0.9.0 in /usr/local/lib/python3.10/dist-packages (from ultralytics) (0.16.0+cu118)\n",
      "Requirement already satisfied: tqdm>=4.64.0 in /usr/local/lib/python3.10/dist-packages (from ultralytics) (4.66.1)\n",
      "Requirement already satisfied: pandas>=1.1.4 in /usr/local/lib/python3.10/dist-packages (from ultralytics) (1.5.3)\n",
      "Requirement already satisfied: seaborn>=0.11.0 in /usr/local/lib/python3.10/dist-packages (from ultralytics) (0.12.2)\n",
      "Requirement already satisfied: psutil in /usr/local/lib/python3.10/dist-packages (from ultralytics) (5.9.5)\n",
      "Requirement already satisfied: py-cpuinfo in /usr/local/lib/python3.10/dist-packages (from ultralytics) (9.0.0)\n",
      "Collecting thop>=0.1.1 (from ultralytics)\n",
      "  Downloading thop-0.1.1.post2209072238-py3-none-any.whl (15 kB)\n",
      "Requirement already satisfied: contourpy>=1.0.1 in /usr/local/lib/python3.10/dist-packages (from matplotlib>=3.3.0->ultralytics) (1.2.0)\n",
      "Requirement already satisfied: cycler>=0.10 in /usr/local/lib/python3.10/dist-packages (from matplotlib>=3.3.0->ultralytics) (0.12.1)\n",
      "Requirement already satisfied: fonttools>=4.22.0 in /usr/local/lib/python3.10/dist-packages (from matplotlib>=3.3.0->ultralytics) (4.45.1)\n",
      "Requirement already satisfied: kiwisolver>=1.0.1 in /usr/local/lib/python3.10/dist-packages (from matplotlib>=3.3.0->ultralytics) (1.4.5)\n",
      "Requirement already satisfied: packaging>=20.0 in /usr/local/lib/python3.10/dist-packages (from matplotlib>=3.3.0->ultralytics) (23.2)\n",
      "Requirement already satisfied: pyparsing>=2.3.1 in /usr/local/lib/python3.10/dist-packages (from matplotlib>=3.3.0->ultralytics) (3.1.1)\n",
      "Requirement already satisfied: python-dateutil>=2.7 in /usr/local/lib/python3.10/dist-packages (from matplotlib>=3.3.0->ultralytics) (2.8.2)\n",
      "Requirement already satisfied: pytz>=2020.1 in /usr/local/lib/python3.10/dist-packages (from pandas>=1.1.4->ultralytics) (2023.3.post1)\n",
      "Requirement already satisfied: charset-normalizer<4,>=2 in /usr/local/lib/python3.10/dist-packages (from requests>=2.23.0->ultralytics) (3.3.2)\n",
      "Requirement already satisfied: idna<4,>=2.5 in /usr/local/lib/python3.10/dist-packages (from requests>=2.23.0->ultralytics) (3.6)\n",
      "Requirement already satisfied: urllib3<3,>=1.21.1 in /usr/local/lib/python3.10/dist-packages (from requests>=2.23.0->ultralytics) (2.0.7)\n",
      "Requirement already satisfied: certifi>=2017.4.17 in /usr/local/lib/python3.10/dist-packages (from requests>=2.23.0->ultralytics) (2023.11.17)\n",
      "Requirement already satisfied: filelock in /usr/local/lib/python3.10/dist-packages (from torch>=1.8.0->ultralytics) (3.13.1)\n",
      "Requirement already satisfied: typing-extensions in /usr/local/lib/python3.10/dist-packages (from torch>=1.8.0->ultralytics) (4.5.0)\n",
      "Requirement already satisfied: sympy in /usr/local/lib/python3.10/dist-packages (from torch>=1.8.0->ultralytics) (1.12)\n",
      "Requirement already satisfied: networkx in /usr/local/lib/python3.10/dist-packages (from torch>=1.8.0->ultralytics) (3.2.1)\n",
      "Requirement already satisfied: jinja2 in /usr/local/lib/python3.10/dist-packages (from torch>=1.8.0->ultralytics) (3.1.2)\n",
      "Requirement already satisfied: fsspec in /usr/local/lib/python3.10/dist-packages (from torch>=1.8.0->ultralytics) (2023.6.0)\n",
      "Requirement already satisfied: triton==2.1.0 in /usr/local/lib/python3.10/dist-packages (from torch>=1.8.0->ultralytics) (2.1.0)\n",
      "Requirement already satisfied: six>=1.5 in /usr/local/lib/python3.10/dist-packages (from python-dateutil>=2.7->matplotlib>=3.3.0->ultralytics) (1.16.0)\n",
      "Requirement already satisfied: MarkupSafe>=2.0 in /usr/local/lib/python3.10/dist-packages (from jinja2->torch>=1.8.0->ultralytics) (2.1.3)\n",
      "Requirement already satisfied: mpmath>=0.19 in /usr/local/lib/python3.10/dist-packages (from sympy->torch>=1.8.0->ultralytics) (1.3.0)\n",
      "Installing collected packages: thop, ultralytics\n",
      "Successfully installed thop-0.1.1.post2209072238 ultralytics-8.0.225\n"
     ]
    }
   ]
  },
  {
   "cell_type": "code",
   "source": [
    "!pip install roboflow"
   ],
   "metadata": {
    "colab": {
     "base_uri": "https://localhost:8080/",
     "height": 1000
    },
    "id": "cYyhOG2ZyeJ5",
    "outputId": "5c08b0b7-a501-43b2-b014-7e3c7f625bf0"
   },
   "execution_count": 3,
   "outputs": [
    {
     "output_type": "stream",
     "name": "stdout",
     "text": [
      "Collecting roboflow\n",
      "  Downloading roboflow-1.1.12-py3-none-any.whl (68 kB)\n",
      "\u001B[2K     \u001B[90m━━━━━━━━━━━━━━━━━━━━━━━━━━━━━━━━━━━━━━━━\u001B[0m \u001B[32m68.5/68.5 kB\u001B[0m \u001B[31m2.3 MB/s\u001B[0m eta \u001B[36m0:00:00\u001B[0m\n",
      "\u001B[?25hCollecting certifi==2023.7.22 (from roboflow)\n",
      "  Downloading certifi-2023.7.22-py3-none-any.whl (158 kB)\n",
      "\u001B[2K     \u001B[90m━━━━━━━━━━━━━━━━━━━━━━━━━━━━━━━━━━━━━━━━\u001B[0m \u001B[32m158.3/158.3 kB\u001B[0m \u001B[31m6.6 MB/s\u001B[0m eta \u001B[36m0:00:00\u001B[0m\n",
      "\u001B[?25hCollecting chardet==4.0.0 (from roboflow)\n",
      "  Downloading chardet-4.0.0-py2.py3-none-any.whl (178 kB)\n",
      "\u001B[2K     \u001B[90m━━━━━━━━━━━━━━━━━━━━━━━━━━━━━━━━━━━━━━━━\u001B[0m \u001B[32m178.7/178.7 kB\u001B[0m \u001B[31m8.1 MB/s\u001B[0m eta \u001B[36m0:00:00\u001B[0m\n",
      "\u001B[?25hCollecting cycler==0.10.0 (from roboflow)\n",
      "  Downloading cycler-0.10.0-py2.py3-none-any.whl (6.5 kB)\n",
      "Collecting idna==2.10 (from roboflow)\n",
      "  Downloading idna-2.10-py2.py3-none-any.whl (58 kB)\n",
      "\u001B[2K     \u001B[90m━━━━━━━━━━━━━━━━━━━━━━━━━━━━━━━━━━━━━━━━\u001B[0m \u001B[32m58.8/58.8 kB\u001B[0m \u001B[31m6.6 MB/s\u001B[0m eta \u001B[36m0:00:00\u001B[0m\n",
      "\u001B[?25hRequirement already satisfied: kiwisolver>=1.3.1 in /usr/local/lib/python3.10/dist-packages (from roboflow) (1.4.5)\n",
      "Requirement already satisfied: matplotlib in /usr/local/lib/python3.10/dist-packages (from roboflow) (3.7.1)\n",
      "Requirement already satisfied: numpy>=1.18.5 in /usr/local/lib/python3.10/dist-packages (from roboflow) (1.23.5)\n",
      "Collecting opencv-python-headless==4.8.0.74 (from roboflow)\n",
      "  Downloading opencv_python_headless-4.8.0.74-cp37-abi3-manylinux_2_17_x86_64.manylinux2014_x86_64.whl (49.1 MB)\n",
      "\u001B[2K     \u001B[90m━━━━━━━━━━━━━━━━━━━━━━━━━━━━━━━━━━━━━━━━\u001B[0m \u001B[32m49.1/49.1 MB\u001B[0m \u001B[31m17.5 MB/s\u001B[0m eta \u001B[36m0:00:00\u001B[0m\n",
      "\u001B[?25hRequirement already satisfied: Pillow>=7.1.2 in /usr/local/lib/python3.10/dist-packages (from roboflow) (9.4.0)\n",
      "Collecting pyparsing==2.4.7 (from roboflow)\n",
      "  Downloading pyparsing-2.4.7-py2.py3-none-any.whl (67 kB)\n",
      "\u001B[2K     \u001B[90m━━━━━━━━━━━━━━━━━━━━━━━━━━━━━━━━━━━━━━━━\u001B[0m \u001B[32m67.8/67.8 kB\u001B[0m \u001B[31m11.1 MB/s\u001B[0m eta \u001B[36m0:00:00\u001B[0m\n",
      "\u001B[?25hRequirement already satisfied: python-dateutil in /usr/local/lib/python3.10/dist-packages (from roboflow) (2.8.2)\n",
      "Collecting python-dotenv (from roboflow)\n",
      "  Downloading python_dotenv-1.0.0-py3-none-any.whl (19 kB)\n",
      "Requirement already satisfied: requests in /usr/local/lib/python3.10/dist-packages (from roboflow) (2.31.0)\n",
      "Requirement already satisfied: six in /usr/local/lib/python3.10/dist-packages (from roboflow) (1.16.0)\n",
      "Collecting supervision (from roboflow)\n",
      "  Downloading supervision-0.17.1-py3-none-any.whl (77 kB)\n",
      "\u001B[2K     \u001B[90m━━━━━━━━━━━━━━━━━━━━━━━━━━━━━━━━━━━━━━━━\u001B[0m \u001B[32m77.5/77.5 kB\u001B[0m \u001B[31m10.3 MB/s\u001B[0m eta \u001B[36m0:00:00\u001B[0m\n",
      "\u001B[?25hRequirement already satisfied: urllib3>=1.26.6 in /usr/local/lib/python3.10/dist-packages (from roboflow) (2.0.7)\n",
      "Requirement already satisfied: tqdm>=4.41.0 in /usr/local/lib/python3.10/dist-packages (from roboflow) (4.66.1)\n",
      "Requirement already satisfied: PyYAML>=5.3.1 in /usr/local/lib/python3.10/dist-packages (from roboflow) (6.0.1)\n",
      "Collecting requests-toolbelt (from roboflow)\n",
      "  Downloading requests_toolbelt-1.0.0-py2.py3-none-any.whl (54 kB)\n",
      "\u001B[2K     \u001B[90m━━━━━━━━━━━━━━━━━━━━━━━━━━━━━━━━━━━━━━━━\u001B[0m \u001B[32m54.5/54.5 kB\u001B[0m \u001B[31m5.6 MB/s\u001B[0m eta \u001B[36m0:00:00\u001B[0m\n",
      "\u001B[?25hCollecting python-magic (from roboflow)\n",
      "  Downloading python_magic-0.4.27-py2.py3-none-any.whl (13 kB)\n",
      "Requirement already satisfied: contourpy>=1.0.1 in /usr/local/lib/python3.10/dist-packages (from matplotlib->roboflow) (1.2.0)\n",
      "Requirement already satisfied: fonttools>=4.22.0 in /usr/local/lib/python3.10/dist-packages (from matplotlib->roboflow) (4.45.1)\n",
      "Requirement already satisfied: packaging>=20.0 in /usr/local/lib/python3.10/dist-packages (from matplotlib->roboflow) (23.2)\n",
      "Requirement already satisfied: charset-normalizer<4,>=2 in /usr/local/lib/python3.10/dist-packages (from requests->roboflow) (3.3.2)\n",
      "Requirement already satisfied: scipy>=1.9.0 in /usr/local/lib/python3.10/dist-packages (from supervision->roboflow) (1.11.4)\n",
      "Installing collected packages: python-magic, python-dotenv, pyparsing, opencv-python-headless, idna, cycler, chardet, certifi, supervision, requests-toolbelt, roboflow\n",
      "  Attempting uninstall: pyparsing\n",
      "    Found existing installation: pyparsing 3.1.1\n",
      "    Uninstalling pyparsing-3.1.1:\n",
      "      Successfully uninstalled pyparsing-3.1.1\n",
      "  Attempting uninstall: opencv-python-headless\n",
      "    Found existing installation: opencv-python-headless 4.8.1.78\n",
      "    Uninstalling opencv-python-headless-4.8.1.78:\n",
      "      Successfully uninstalled opencv-python-headless-4.8.1.78\n",
      "  Attempting uninstall: idna\n",
      "    Found existing installation: idna 3.6\n",
      "    Uninstalling idna-3.6:\n",
      "      Successfully uninstalled idna-3.6\n",
      "  Attempting uninstall: cycler\n",
      "    Found existing installation: cycler 0.12.1\n",
      "    Uninstalling cycler-0.12.1:\n",
      "      Successfully uninstalled cycler-0.12.1\n",
      "  Attempting uninstall: chardet\n",
      "    Found existing installation: chardet 5.2.0\n",
      "    Uninstalling chardet-5.2.0:\n",
      "      Successfully uninstalled chardet-5.2.0\n",
      "  Attempting uninstall: certifi\n",
      "    Found existing installation: certifi 2023.11.17\n",
      "    Uninstalling certifi-2023.11.17:\n",
      "      Successfully uninstalled certifi-2023.11.17\n",
      "\u001B[31mERROR: pip's dependency resolver does not currently take into account all the packages that are installed. This behaviour is the source of the following dependency conflicts.\n",
      "lida 0.0.10 requires fastapi, which is not installed.\n",
      "lida 0.0.10 requires kaleido, which is not installed.\n",
      "lida 0.0.10 requires python-multipart, which is not installed.\n",
      "lida 0.0.10 requires uvicorn, which is not installed.\u001B[0m\u001B[31m\n",
      "\u001B[0mSuccessfully installed certifi-2023.7.22 chardet-4.0.0 cycler-0.10.0 idna-2.10 opencv-python-headless-4.8.0.74 pyparsing-2.4.7 python-dotenv-1.0.0 python-magic-0.4.27 requests-toolbelt-1.0.0 roboflow-1.1.12 supervision-0.17.1\n"
     ]
    },
    {
     "output_type": "display_data",
     "data": {
      "application/vnd.colab-display-data+json": {
       "pip_warning": {
        "packages": [
         "certifi",
         "cycler",
         "pyparsing"
        ]
       }
      }
     },
     "metadata": {}
    }
   ]
  },
  {
   "cell_type": "code",
   "source": [
    "# If you don't have ClearML and ClearML Agent installed then uncomment these line\n",
    "!pip install clearml\n",
    "!pip install clearml-agent"
   ],
   "metadata": {
    "colab": {
     "base_uri": "https://localhost:8080/"
    },
    "id": "91Epfz-Yio7X",
    "outputId": "b6242ef9-ada3-4e2a-8979-00bd7f79c7ca"
   },
   "execution_count": 1,
   "outputs": [
    {
     "output_type": "stream",
     "name": "stdout",
     "text": [
      "Requirement already satisfied: clearml in /usr/local/lib/python3.10/dist-packages (1.13.2)\n",
      "Requirement already satisfied: attrs>=18.0 in /usr/local/lib/python3.10/dist-packages (from clearml) (23.1.0)\n",
      "Requirement already satisfied: furl>=2.0.0 in /usr/local/lib/python3.10/dist-packages (from clearml) (2.1.3)\n",
      "Requirement already satisfied: jsonschema>=2.6.0 in /usr/local/lib/python3.10/dist-packages (from clearml) (4.19.2)\n",
      "Requirement already satisfied: numpy>=1.10 in /usr/local/lib/python3.10/dist-packages (from clearml) (1.23.5)\n",
      "Requirement already satisfied: pathlib2>=2.3.0 in /usr/local/lib/python3.10/dist-packages (from clearml) (2.3.7.post1)\n",
      "Requirement already satisfied: Pillow>=4.1.1 in /usr/local/lib/python3.10/dist-packages (from clearml) (9.4.0)\n",
      "Requirement already satisfied: psutil>=3.4.2 in /usr/local/lib/python3.10/dist-packages (from clearml) (5.9.5)\n",
      "Requirement already satisfied: pyparsing>=2.0.3 in /usr/local/lib/python3.10/dist-packages (from clearml) (2.4.7)\n",
      "Requirement already satisfied: python-dateutil>=2.6.1 in /usr/local/lib/python3.10/dist-packages (from clearml) (2.8.2)\n",
      "Requirement already satisfied: PyYAML>=3.12 in /usr/local/lib/python3.10/dist-packages (from clearml) (6.0.1)\n",
      "Requirement already satisfied: requests>=2.20.0 in /usr/local/lib/python3.10/dist-packages (from clearml) (2.31.0)\n",
      "Requirement already satisfied: six>=1.13.0 in /usr/local/lib/python3.10/dist-packages (from clearml) (1.16.0)\n",
      "Requirement already satisfied: urllib3>=1.21.1 in /usr/local/lib/python3.10/dist-packages (from clearml) (2.0.7)\n",
      "Requirement already satisfied: pyjwt<2.9.0,>=2.4.0 in /usr/local/lib/python3.10/dist-packages (from clearml) (2.8.0)\n",
      "Requirement already satisfied: referencing<0.40 in /usr/local/lib/python3.10/dist-packages (from clearml) (0.31.1)\n",
      "Requirement already satisfied: orderedmultidict>=1.0.1 in /usr/local/lib/python3.10/dist-packages (from furl>=2.0.0->clearml) (1.0.1)\n",
      "Requirement already satisfied: jsonschema-specifications>=2023.03.6 in /usr/local/lib/python3.10/dist-packages (from jsonschema>=2.6.0->clearml) (2023.11.2)\n",
      "Requirement already satisfied: rpds-py>=0.7.1 in /usr/local/lib/python3.10/dist-packages (from jsonschema>=2.6.0->clearml) (0.13.2)\n",
      "Requirement already satisfied: charset-normalizer<4,>=2 in /usr/local/lib/python3.10/dist-packages (from requests>=2.20.0->clearml) (3.3.2)\n",
      "Requirement already satisfied: idna<4,>=2.5 in /usr/local/lib/python3.10/dist-packages (from requests>=2.20.0->clearml) (2.10)\n",
      "Requirement already satisfied: certifi>=2017.4.17 in /usr/local/lib/python3.10/dist-packages (from requests>=2.20.0->clearml) (2023.7.22)\n",
      "Collecting clearml-agent\n",
      "  Using cached clearml_agent-1.6.1-py3-none-any.whl (409 kB)\n",
      "Collecting attrs<23.0.0,>=18.0 (from clearml-agent)\n",
      "  Using cached attrs-22.2.0-py3-none-any.whl (60 kB)\n",
      "Requirement already satisfied: furl<2.2.0,>=2.0.0 in /usr/local/lib/python3.10/dist-packages (from clearml-agent) (2.1.3)\n",
      "Requirement already satisfied: jsonschema<5.0.0,>=2.6.0 in /usr/local/lib/python3.10/dist-packages (from clearml-agent) (4.19.2)\n",
      "Requirement already satisfied: pathlib2<2.4.0,>=2.3.0 in /usr/local/lib/python3.10/dist-packages (from clearml-agent) (2.3.7.post1)\n",
      "Requirement already satisfied: psutil<5.10.0,>=3.4.2 in /usr/local/lib/python3.10/dist-packages (from clearml-agent) (5.9.5)\n",
      "Requirement already satisfied: pyparsing<3.1.0,>=2.0.3 in /usr/local/lib/python3.10/dist-packages (from clearml-agent) (2.4.7)\n",
      "Requirement already satisfied: python-dateutil<2.9.0,>=2.4.2 in /usr/local/lib/python3.10/dist-packages (from clearml-agent) (2.8.2)\n",
      "Collecting pyjwt<2.7.0,>=2.4.0 (from clearml-agent)\n",
      "  Using cached PyJWT-2.6.0-py3-none-any.whl (20 kB)\n",
      "Requirement already satisfied: PyYAML<6.1,>=3.12 in /usr/local/lib/python3.10/dist-packages (from clearml-agent) (6.0.1)\n",
      "Requirement already satisfied: requests<=2.31.0,>=2.20.0 in /usr/local/lib/python3.10/dist-packages (from clearml-agent) (2.31.0)\n",
      "Requirement already satisfied: six<1.17.0,>=1.13.0 in /usr/local/lib/python3.10/dist-packages (from clearml-agent) (1.16.0)\n",
      "Collecting urllib3<1.27.0,>=1.21.1 (from clearml-agent)\n",
      "  Using cached urllib3-1.26.18-py2.py3-none-any.whl (143 kB)\n",
      "Collecting virtualenv<21,>=16 (from clearml-agent)\n",
      "  Using cached virtualenv-20.25.0-py3-none-any.whl (3.8 MB)\n",
      "Requirement already satisfied: orderedmultidict>=1.0.1 in /usr/local/lib/python3.10/dist-packages (from furl<2.2.0,>=2.0.0->clearml-agent) (1.0.1)\n",
      "Requirement already satisfied: jsonschema-specifications>=2023.03.6 in /usr/local/lib/python3.10/dist-packages (from jsonschema<5.0.0,>=2.6.0->clearml-agent) (2023.11.2)\n",
      "Requirement already satisfied: referencing>=0.28.4 in /usr/local/lib/python3.10/dist-packages (from jsonschema<5.0.0,>=2.6.0->clearml-agent) (0.31.1)\n",
      "Requirement already satisfied: rpds-py>=0.7.1 in /usr/local/lib/python3.10/dist-packages (from jsonschema<5.0.0,>=2.6.0->clearml-agent) (0.13.2)\n",
      "Requirement already satisfied: charset-normalizer<4,>=2 in /usr/local/lib/python3.10/dist-packages (from requests<=2.31.0,>=2.20.0->clearml-agent) (3.3.2)\n",
      "Requirement already satisfied: idna<4,>=2.5 in /usr/local/lib/python3.10/dist-packages (from requests<=2.31.0,>=2.20.0->clearml-agent) (2.10)\n",
      "Requirement already satisfied: certifi>=2017.4.17 in /usr/local/lib/python3.10/dist-packages (from requests<=2.31.0,>=2.20.0->clearml-agent) (2023.7.22)\n",
      "Collecting distlib<1,>=0.3.7 (from virtualenv<21,>=16->clearml-agent)\n",
      "  Using cached distlib-0.3.7-py2.py3-none-any.whl (468 kB)\n",
      "Requirement already satisfied: filelock<4,>=3.12.2 in /usr/local/lib/python3.10/dist-packages (from virtualenv<21,>=16->clearml-agent) (3.13.1)\n",
      "Requirement already satisfied: platformdirs<5,>=3.9.1 in /usr/local/lib/python3.10/dist-packages (from virtualenv<21,>=16->clearml-agent) (4.0.0)\n",
      "Installing collected packages: distlib, virtualenv, urllib3, pyjwt, attrs, clearml-agent\n",
      "  Attempting uninstall: urllib3\n",
      "    Found existing installation: urllib3 2.0.7\n",
      "    Uninstalling urllib3-2.0.7:\n",
      "      Successfully uninstalled urllib3-2.0.7\n",
      "  Attempting uninstall: pyjwt\n",
      "    Found existing installation: PyJWT 2.8.0\n",
      "    Uninstalling PyJWT-2.8.0:\n",
      "      Successfully uninstalled PyJWT-2.8.0\n",
      "  Attempting uninstall: attrs\n",
      "    Found existing installation: attrs 23.1.0\n",
      "    Uninstalling attrs-23.1.0:\n",
      "      Successfully uninstalled attrs-23.1.0\n",
      "\u001B[31mERROR: pip's dependency resolver does not currently take into account all the packages that are installed. This behaviour is the source of the following dependency conflicts.\n",
      "lida 0.0.10 requires fastapi, which is not installed.\n",
      "lida 0.0.10 requires kaleido, which is not installed.\n",
      "lida 0.0.10 requires python-multipart, which is not installed.\n",
      "lida 0.0.10 requires uvicorn, which is not installed.\u001B[0m\u001B[31m\n",
      "\u001B[0mSuccessfully installed attrs-22.2.0 clearml-agent-1.6.1 distlib-0.3.7 pyjwt-2.6.0 urllib3-1.26.18 virtualenv-20.25.0\n"
     ]
    }
   ]
  },
  {
   "cell_type": "code",
   "source": [
    "from IPython.display import display, Image\n",
    "from IPython import display\n",
    "display.clear_output()\n",
    "\n",
    "import ultralytics\n",
    "from ultralytics import YOLO\n",
    "ultralytics.checks()\n",
    "\n",
    "from roboflow import Roboflow\n",
    "import os\n",
    "\n",
    "from clearml import Task"
   ],
   "metadata": {
    "colab": {
     "base_uri": "https://localhost:8080/"
    },
    "id": "PX9Dyt0cne3_",
    "outputId": "c57daaf2-52c1-4c07-d585-1c690e925ae5"
   },
   "execution_count": 12,
   "outputs": [
    {
     "output_type": "stream",
     "name": "stdout",
     "text": [
      "Ultralytics YOLOv8.0.225 🚀 Python-3.10.12 torch-2.1.0+cu118 CUDA:0 (Tesla T4, 15102MiB)\n",
      "Setup complete ✅ (2 CPUs, 12.7 GB RAM, 28.4/78.2 GB disk)\n"
     ]
    }
   ]
  },
  {
   "cell_type": "code",
   "source": [
    "! export MPLBACKEND=TkAg"
   ],
   "metadata": {
    "id": "uECkIQQUi-rs"
   },
   "execution_count": 13,
   "outputs": []
  },
  {
   "cell_type": "code",
   "source": [
    "#@title Insert your own Credentials\n",
    "\n",
    "web_server = 'https://app.clear.ml'#@param {type:\"string\"}\n",
    "api_server = 'https://api.clear.ml'#@param {type:\"string\"}\n",
    "files_server = 'https://files.clear.ml'#@param {type:\"string\"}\n",
    "access_key = 'HW5700GYW80WJGC764JJ'#@param {type:\"string\"}\n",
    "secret_key = 'JeCBAHPC1pLBbd18Z4PfYtPnWzocWzV3TEcAu1fj4nsz7Z3FoT'#@param {type:\"string\"}\n",
    "\n",
    "Task.set_credentials(web_host=web_server,\n",
    "                     api_host=api_server,\n",
    "                     files_host=files_server,\n",
    "                     key=access_key,\n",
    "                     secret=secret_key\n",
    "                     )\n",
    "\n"
   ],
   "metadata": {
    "id": "OH6U7M-EjIqu"
   },
   "execution_count": 14,
   "outputs": []
  },
  {
   "cell_type": "code",
   "source": [
    "!clearml-agent daemon --queue default"
   ],
   "metadata": {
    "colab": {
     "base_uri": "https://localhost:8080/"
    },
    "id": "ZoC2eienk2v4",
    "outputId": "a3c8d5ff-877d-4211-9d41-7ccbdf11b039"
   },
   "execution_count": 15,
   "outputs": [
    {
     "output_type": "stream",
     "name": "stdout",
     "text": [
      "Using environment access key CLEARML_API_ACCESS_KEY=HW5700GYW80WJGC764JJ\n",
      "Using environment secret key CLEARML_API_SECRET_KEY=********\n",
      "Current configuration (clearml_agent v1.6.1, location: None):\n",
      "----------------------\n",
      "sdk.storage.cache.default_base_dir = ~/.clearml/cache\n",
      "sdk.storage.cache.size.min_free_bytes = 10GB\n",
      "sdk.storage.direct_access.0.url = file://*\n",
      "sdk.metrics.file_history_size = 100\n",
      "sdk.metrics.matplotlib_untitled_history_size = 100\n",
      "sdk.metrics.images.format = JPEG\n",
      "sdk.metrics.images.quality = 87\n",
      "sdk.metrics.images.subsampling = 0\n",
      "sdk.metrics.tensorboard_single_series_per_graph = false\n",
      "sdk.network.metrics.file_upload_threads = 4\n",
      "sdk.network.metrics.file_upload_starvation_warning_sec = 120\n",
      "sdk.network.iteration.max_retries_on_server_error = 5\n",
      "sdk.network.iteration.retry_backoff_factor_sec = 10\n",
      "sdk.aws.s3.key = \n",
      "sdk.aws.s3.region = \n",
      "sdk.aws.boto3.pool_connections = 512\n",
      "sdk.aws.boto3.max_multipart_concurrency = 16\n",
      "sdk.log.null_log_propagate = false\n",
      "sdk.log.task_log_buffer_capacity = 66\n",
      "sdk.log.disable_urllib3_info = true\n",
      "sdk.development.task_reuse_time_window_in_hours = 72.0\n",
      "sdk.development.vcs_repo_detect_async = true\n",
      "sdk.development.store_uncommitted_code_diff = true\n",
      "sdk.development.support_stopping = true\n",
      "sdk.development.default_output_uri = \n",
      "sdk.development.force_analyze_entire_repo = false\n",
      "sdk.development.suppress_update_message = false\n",
      "sdk.development.detect_with_pip_freeze = false\n",
      "sdk.development.worker.report_period_sec = 2\n",
      "sdk.development.worker.ping_period_sec = 30\n",
      "sdk.development.worker.log_stdout = true\n",
      "sdk.development.worker.report_global_mem_used = false\n",
      "api.version = 1.5\n",
      "api.verify_certificate = true\n",
      "api.default_version = 1.5\n",
      "api.http.max_req_size = 15728640\n",
      "api.http.retries.total = 240\n",
      "api.http.retries.connect = 240\n",
      "api.http.retries.read = 240\n",
      "api.http.retries.redirect = 240\n",
      "api.http.retries.status = 240\n",
      "api.http.retries.backoff_factor = 1.0\n",
      "api.http.retries.backoff_max = 120.0\n",
      "api.http.wait_on_maintenance_forever = true\n",
      "api.http.pool_maxsize = 512\n",
      "api.http.pool_connections = 512\n",
      "api.api_server = https://api.clear.ml\n",
      "api.files_server = https://files.clear.ml\n",
      "api.web_server = https://app.clear.ml\n",
      "api.credentials.access_key = HW5700GYW80WJGC764JJ\n",
      "agent.worker_id = \n",
      "agent.worker_name = 8cb42ef6159e\n",
      "agent.force_git_ssh_protocol = false\n",
      "agent.python_binary = \n",
      "agent.package_manager.type = pip\n",
      "agent.package_manager.pip_version.0 = <20.2 ; python_version < '3.10'\n",
      "agent.package_manager.pip_version.1 = <22.3 ; python_version >\\= '3.10'\n",
      "agent.package_manager.system_site_packages = false\n",
      "agent.package_manager.force_upgrade = false\n",
      "agent.package_manager.conda_channels.0 = pytorch\n",
      "agent.package_manager.conda_channels.1 = conda-forge\n",
      "agent.package_manager.conda_channels.2 = defaults\n",
      "agent.package_manager.priority_optional_packages.0 = pygobject\n",
      "agent.package_manager.torch_nightly = false\n",
      "agent.package_manager.poetry_files_from_repo_working_dir = false\n",
      "agent.venvs_dir = /root/.clearml/venvs-builds\n",
      "agent.venvs_cache.max_entries = 10\n",
      "agent.venvs_cache.free_space_threshold_gb = 2.0\n",
      "agent.venvs_cache.path = ~/.clearml/venvs-cache\n",
      "agent.vcs_cache.enabled = true\n",
      "agent.vcs_cache.path = /root/.clearml/vcs-cache\n",
      "agent.venv_update.enabled = false\n",
      "agent.pip_download_cache.enabled = true\n",
      "agent.pip_download_cache.path = /root/.clearml/pip-download-cache\n",
      "agent.translate_ssh = true\n",
      "agent.reload_config = false\n",
      "agent.docker_pip_cache = /root/.clearml/pip-cache\n",
      "agent.docker_apt_cache = /root/.clearml/apt-cache\n",
      "agent.docker_force_pull = false\n",
      "agent.default_docker.image = nvidia/cuda:11.0.3-cudnn8-runtime-ubuntu20.04\n",
      "agent.enable_task_env = false\n",
      "agent.hide_docker_command_env_vars.enabled = true\n",
      "agent.hide_docker_command_env_vars.parse_embedded_urls = true\n",
      "agent.abort_callback_max_timeout = 1800\n",
      "agent.docker_internal_mounts.sdk_cache = /clearml_agent_cache\n",
      "agent.docker_internal_mounts.apt_cache = /var/cache/apt/archives\n",
      "agent.docker_internal_mounts.ssh_folder = ~/.ssh\n",
      "agent.docker_internal_mounts.ssh_ro_folder = /.ssh\n",
      "agent.docker_internal_mounts.pip_cache = /root/.cache/pip\n",
      "agent.docker_internal_mounts.poetry_cache = /root/.cache/pypoetry\n",
      "agent.docker_internal_mounts.vcs_cache = /root/.clearml/vcs-cache\n",
      "agent.docker_internal_mounts.venv_build = ~/.clearml/venvs-builds\n",
      "agent.docker_internal_mounts.pip_download = /root/.clearml/pip-download-cache\n",
      "agent.apply_environment = true\n",
      "agent.apply_files = true\n",
      "agent.custom_build_script = \n",
      "agent.disable_task_docker_override = false\n",
      "agent.default_python = 3.10\n",
      "agent.cuda_version = 118\n",
      "agent.cudnn_version = 0\n",
      "\n",
      "Worker \"8cb42ef6159e:gpuall\" - Listening to queues:\n",
      "+----------------------------------+---------+-------+\n",
      "| id                               | name    | tags  |\n",
      "+----------------------------------+---------+-------+\n",
      "| d00804d5429d4ea39113a78d67e8e6c4 | default |       |\n",
      "+----------------------------------+---------+-------+\n",
      "\n",
      "Running CLEARML-AGENT daemon in background mode, writing stdout/stderr to /tmp/.clearml_agent_daemon_outnph7seqx.txt\n"
     ]
    }
   ]
  },
  {
   "cell_type": "code",
   "source": [
    "# Load the project\n",
    "rf = Roboflow(api_key=\"Vk9gok9LlIOzoEbmNu0H\")\n",
    "project = rf.workspace(\"ariel-drabkin-tifqg\").project(\"solar-panel-detection-bi1sm\")\n",
    "dataset = project.version(1).download(\"yolov8\")\n"
   ],
   "metadata": {
    "colab": {
     "base_uri": "https://localhost:8080/"
    },
    "id": "q3sdA_J4nAmh",
    "outputId": "7669ae0e-0d59-498d-ca57-91ed3bb549cb"
   },
   "execution_count": 6,
   "outputs": [
    {
     "output_type": "stream",
     "name": "stdout",
     "text": [
      "loading Roboflow workspace...\n",
      "loading Roboflow project...\n",
      "Dependency ultralytics==8.0.196 is required but found version=8.0.225, to fix: `pip install ultralytics==8.0.196`\n"
     ]
    },
    {
     "output_type": "stream",
     "name": "stderr",
     "text": [
      "Downloading Dataset Version Zip in solar-panel-detection-1 to yolov8:: 100%|██████████| 1166895/1166895 [00:15<00:00, 77730.87it/s]"
     ]
    },
    {
     "output_type": "stream",
     "name": "stdout",
     "text": [
      "\n"
     ]
    },
    {
     "output_type": "stream",
     "name": "stderr",
     "text": [
      "\n",
      "Extracting Dataset Version Zip to solar-panel-detection-1 in yolov8:: 100%|██████████| 40644/40644 [00:10<00:00, 3714.88it/s]\n"
     ]
    }
   ]
  },
  {
   "cell_type": "code",
   "source": [
    "# Train\n",
    "# augmaentation for training: mosaic=1 perspective=0.05 mixup=0.5\n",
    "path = \"/content/solar-panel-detection-1/data.yaml\"\n",
    "project =\"project\"\n",
    "name = \"train10\"\n",
    "\n",
    "\n",
    "!yolo task=detect mode=train model=yolov8n.pt data={path} pretrain=false project=project name=name augment=true epochs=20 imgsz=680 save_period=5 patience=3 plots=True"
   ],
   "metadata": {
    "colab": {
     "base_uri": "https://localhost:8080/"
    },
    "id": "WP9JksqDnqGQ",
    "outputId": "75b6af8b-8c5f-4d49-e439-d7b08c30a71d"
   },
   "execution_count": 16,
   "outputs": [
    {
     "output_type": "stream",
     "name": "stdout",
     "text": [
      "Ultralytics YOLOv8.0.225 🚀 Python-3.10.12 torch-2.1.0+cu118 CUDA:0 (Tesla T4, 15102MiB)\n",
      "\u001B[34m\u001B[1mengine/trainer: \u001B[0mtask=detect, mode=train, model=yolov8n.pt, data=/content/solar-panel-detection-1/data.yaml, epochs=20, patience=3, batch=16, imgsz=680, save=True, save_period=5, cache=False, device=None, workers=8, project=None, name=train10, exist_ok=False, pretrained=True, optimizer=auto, verbose=True, seed=0, deterministic=True, single_cls=False, rect=False, cos_lr=False, close_mosaic=10, resume=False, amp=True, fraction=1.0, profile=False, freeze=None, overlap_mask=True, mask_ratio=4, dropout=0.0, val=True, split=val, save_json=False, save_hybrid=False, conf=None, iou=0.7, max_det=300, half=False, dnn=False, plots=True, source=None, vid_stride=1, stream_buffer=False, visualize=False, augment=False, agnostic_nms=False, classes=None, retina_masks=False, show=False, save_frames=False, save_txt=False, save_conf=False, save_crop=False, show_labels=True, show_conf=True, show_boxes=True, line_width=None, format=torchscript, keras=False, optimize=False, int8=False, dynamic=False, simplify=False, opset=None, workspace=4, nms=False, lr0=0.01, lrf=0.01, momentum=0.937, weight_decay=0.0005, warmup_epochs=3.0, warmup_momentum=0.8, warmup_bias_lr=0.1, box=7.5, cls=0.5, dfl=1.5, pose=12.0, kobj=1.0, label_smoothing=0.0, nbs=64, hsv_h=0.015, hsv_s=0.7, hsv_v=0.4, degrees=0.0, translate=0.1, scale=0.5, shear=0.0, perspective=0.0, flipud=0.0, fliplr=0.5, mosaic=1.0, mixup=0.0, copy_paste=0.0, cfg=None, tracker=botsort.yaml, save_dir=runs/detect/train10\n",
      "2023-12-10 14:00:36.378901: E tensorflow/compiler/xla/stream_executor/cuda/cuda_dnn.cc:9342] Unable to register cuDNN factory: Attempting to register factory for plugin cuDNN when one has already been registered\n",
      "2023-12-10 14:00:36.378958: E tensorflow/compiler/xla/stream_executor/cuda/cuda_fft.cc:609] Unable to register cuFFT factory: Attempting to register factory for plugin cuFFT when one has already been registered\n",
      "2023-12-10 14:00:36.379004: E tensorflow/compiler/xla/stream_executor/cuda/cuda_blas.cc:1518] Unable to register cuBLAS factory: Attempting to register factory for plugin cuBLAS when one has already been registered\n",
      "Overriding model.yaml nc=80 with nc=1\n",
      "\n",
      "                   from  n    params  module                                       arguments                     \n",
      "  0                  -1  1       464  ultralytics.nn.modules.conv.Conv             [3, 16, 3, 2]                 \n",
      "  1                  -1  1      4672  ultralytics.nn.modules.conv.Conv             [16, 32, 3, 2]                \n",
      "  2                  -1  1      7360  ultralytics.nn.modules.block.C2f             [32, 32, 1, True]             \n",
      "  3                  -1  1     18560  ultralytics.nn.modules.conv.Conv             [32, 64, 3, 2]                \n",
      "  4                  -1  2     49664  ultralytics.nn.modules.block.C2f             [64, 64, 2, True]             \n",
      "  5                  -1  1     73984  ultralytics.nn.modules.conv.Conv             [64, 128, 3, 2]               \n",
      "  6                  -1  2    197632  ultralytics.nn.modules.block.C2f             [128, 128, 2, True]           \n",
      "  7                  -1  1    295424  ultralytics.nn.modules.conv.Conv             [128, 256, 3, 2]              \n",
      "  8                  -1  1    460288  ultralytics.nn.modules.block.C2f             [256, 256, 1, True]           \n",
      "  9                  -1  1    164608  ultralytics.nn.modules.block.SPPF            [256, 256, 5]                 \n",
      " 10                  -1  1         0  torch.nn.modules.upsampling.Upsample         [None, 2, 'nearest']          \n",
      " 11             [-1, 6]  1         0  ultralytics.nn.modules.conv.Concat           [1]                           \n",
      " 12                  -1  1    148224  ultralytics.nn.modules.block.C2f             [384, 128, 1]                 \n",
      " 13                  -1  1         0  torch.nn.modules.upsampling.Upsample         [None, 2, 'nearest']          \n",
      " 14             [-1, 4]  1         0  ultralytics.nn.modules.conv.Concat           [1]                           \n",
      " 15                  -1  1     37248  ultralytics.nn.modules.block.C2f             [192, 64, 1]                  \n",
      " 16                  -1  1     36992  ultralytics.nn.modules.conv.Conv             [64, 64, 3, 2]                \n",
      " 17            [-1, 12]  1         0  ultralytics.nn.modules.conv.Concat           [1]                           \n",
      " 18                  -1  1    123648  ultralytics.nn.modules.block.C2f             [192, 128, 1]                 \n",
      " 19                  -1  1    147712  ultralytics.nn.modules.conv.Conv             [128, 128, 3, 2]              \n",
      " 20             [-1, 9]  1         0  ultralytics.nn.modules.conv.Concat           [1]                           \n",
      " 21                  -1  1    493056  ultralytics.nn.modules.block.C2f             [384, 256, 1]                 \n",
      " 22        [15, 18, 21]  1    751507  ultralytics.nn.modules.head.Detect           [1, [64, 128, 256]]           \n",
      "Model summary: 225 layers, 3011043 parameters, 3011027 gradients, 8.2 GFLOPs\n",
      "\n",
      "Transferred 319/355 items from pretrained weights\n",
      "ClearML Task: created new task id=8b148884955f42fcb1744129421f7ba0\n",
      "2023-12-10 14:00:40,841 - clearml.Task - INFO - No repository found, storing script code instead\n",
      "ClearML results page: https://app.clear.ml/projects/ae0bfa8cfa3141799881da5209d2bb4d/experiments/8b148884955f42fcb1744129421f7ba0/output/log\n",
      "ClearML Initialized a new task. If you want to run remotely, please add clearml-init and connect your arguments before initializing YOLO.\n",
      "\u001B[34m\u001B[1mTensorBoard: \u001B[0mStart with 'tensorboard --logdir runs/detect/train10', view at http://localhost:6006/\n",
      "Freezing layer 'model.22.dfl.conv.weight'\n",
      "\u001B[34m\u001B[1mAMP: \u001B[0mrunning Automatic Mixed Precision (AMP) checks with YOLOv8n...\n",
      "\u001B[34m\u001B[1mAMP: \u001B[0mchecks passed ✅\n",
      "WARNING ⚠️ imgsz=[680] must be multiple of max stride 32, updating to [704]\n",
      "\u001B[34m\u001B[1mtrain: \u001B[0mScanning /content/solar-panel-detection-1/train/labels.cache... 17774 images, 0 backgrounds, 0 corrupt: 100% 17774/17774 [00:00<?, ?it/s]\n",
      "\u001B[34m\u001B[1malbumentations: \u001B[0mBlur(p=0.01, blur_limit=(3, 7)), MedianBlur(p=0.01, blur_limit=(3, 7)), ToGray(p=0.01), CLAHE(p=0.01, clip_limit=(1, 4.0), tile_grid_size=(8, 8))\n",
      "\u001B[34m\u001B[1mval: \u001B[0mScanning /content/solar-panel-detection-1/valid/labels.cache... 1697 images, 0 backgrounds, 0 corrupt: 100% 1697/1697 [00:00<?, ?it/s]\n",
      "Plotting labels to runs/detect/train10/labels.jpg... \n",
      "\u001B[34m\u001B[1moptimizer:\u001B[0m 'optimizer=auto' found, ignoring 'lr0=0.01' and 'momentum=0.937' and determining best 'optimizer', 'lr0' and 'momentum' automatically... \n",
      "\u001B[34m\u001B[1moptimizer:\u001B[0m AdamW(lr=0.002, momentum=0.9) with parameter groups 57 weight(decay=0.0), 64 weight(decay=0.0005), 63 bias(decay=0.0)\n",
      "Image sizes 704 train, 704 val\n",
      "Using 2 dataloader workers\n",
      "Logging results to \u001B[1mruns/detect/train10\u001B[0m\n",
      "Starting training for 20 epochs...\n",
      "\n",
      "      Epoch    GPU_mem   box_loss   cls_loss   dfl_loss  Instances       Size\n",
      "       1/20      4.08G      1.305      1.932      1.252        187        704:  30% 338/1111 [02:50<06:02,  2.13it/s]ClearML Monitor: Could not detect iteration reporting, falling back to iterations as seconds-from-start\n",
      "       1/20      5.08G       1.23      1.464      1.186        121        704: 100% 1111/1111 [09:10<00:00,  2.02it/s]\n",
      "                 Class     Images  Instances      Box(P          R      mAP50  mAP50-95): 100% 54/54 [00:28<00:00,  1.89it/s]\n",
      "                   all       1697      13790      0.668      0.572      0.605      0.406\n",
      "\n",
      "      Epoch    GPU_mem   box_loss   cls_loss   dfl_loss  Instances       Size\n",
      "       2/20      3.84G      1.193      1.157      1.155        149        704: 100% 1111/1111 [09:13<00:00,  2.01it/s]\n",
      "                 Class     Images  Instances      Box(P          R      mAP50  mAP50-95): 100% 54/54 [00:26<00:00,  2.02it/s]\n",
      "                   all       1697      13790      0.713      0.576      0.637      0.438\n",
      "\n",
      "      Epoch    GPU_mem   box_loss   cls_loss   dfl_loss  Instances       Size\n",
      "       3/20      4.25G      1.165      1.103      1.143        157        704: 100% 1111/1111 [08:41<00:00,  2.13it/s]\n",
      "                 Class     Images  Instances      Box(P          R      mAP50  mAP50-95): 100% 54/54 [00:26<00:00,  2.06it/s]\n",
      "                   all       1697      13790      0.709      0.566      0.624      0.438\n",
      "\n",
      "      Epoch    GPU_mem   box_loss   cls_loss   dfl_loss  Instances       Size\n",
      "       4/20      4.11G      1.128      1.032      1.121        146        704: 100% 1111/1111 [08:44<00:00,  2.12it/s]\n",
      "                 Class     Images  Instances      Box(P          R      mAP50  mAP50-95): 100% 54/54 [00:26<00:00,  2.01it/s]\n",
      "                   all       1697      13790       0.74        0.6      0.672      0.475\n",
      "\n",
      "      Epoch    GPU_mem   box_loss   cls_loss   dfl_loss  Instances       Size\n",
      "       5/20      5.38G      1.088      0.971      1.102        152        704: 100% 1111/1111 [08:42<00:00,  2.13it/s]\n",
      "                 Class     Images  Instances      Box(P          R      mAP50  mAP50-95): 100% 54/54 [00:26<00:00,  2.05it/s]\n",
      "                   all       1697      13790      0.732      0.662      0.709      0.511\n",
      "\n",
      "      Epoch    GPU_mem   box_loss   cls_loss   dfl_loss  Instances       Size\n",
      "       6/20      5.42G      1.072     0.9314      1.089        101        704: 100% 1111/1111 [08:51<00:00,  2.09it/s]\n",
      "                 Class     Images  Instances      Box(P          R      mAP50  mAP50-95): 100% 54/54 [00:25<00:00,  2.11it/s]\n",
      "                   all       1697      13790      0.776      0.659      0.726      0.526\n",
      "\n",
      "      Epoch    GPU_mem   box_loss   cls_loss   dfl_loss  Instances       Size\n",
      "       7/20      4.44G      1.037     0.8863      1.075        114        704: 100% 1111/1111 [08:52<00:00,  2.08it/s]\n",
      "                 Class     Images  Instances      Box(P          R      mAP50  mAP50-95): 100% 54/54 [00:25<00:00,  2.13it/s]\n",
      "                   all       1697      13790      0.794      0.708      0.768      0.564\n",
      "\n",
      "      Epoch    GPU_mem   box_loss   cls_loss   dfl_loss  Instances       Size\n",
      "       8/20      3.72G      1.023     0.8568      1.066        108        704: 100% 1111/1111 [08:46<00:00,  2.11it/s]\n",
      "                 Class     Images  Instances      Box(P          R      mAP50  mAP50-95): 100% 54/54 [00:25<00:00,  2.08it/s]\n",
      "                   all       1697      13790      0.795      0.711      0.771       0.56\n",
      "\n",
      "      Epoch    GPU_mem   box_loss   cls_loss   dfl_loss  Instances       Size\n",
      "       9/20      4.23G      1.003      0.825      1.055        209        704: 100% 1111/1111 [08:44<00:00,  2.12it/s]\n",
      "                 Class     Images  Instances      Box(P          R      mAP50  mAP50-95): 100% 54/54 [00:24<00:00,  2.18it/s]\n",
      "                   all       1697      13790      0.825      0.725      0.794       0.59\n",
      "\n",
      "      Epoch    GPU_mem   box_loss   cls_loss   dfl_loss  Instances       Size\n",
      "      10/20      5.04G     0.9867     0.7985      1.047        144        704: 100% 1111/1111 [08:47<00:00,  2.11it/s]\n",
      "                 Class     Images  Instances      Box(P          R      mAP50  mAP50-95): 100% 54/54 [00:29<00:00,  1.82it/s]\n",
      "                   all       1697      13790      0.831      0.739       0.81      0.599\n",
      "Closing dataloader mosaic\n",
      "\u001B[34m\u001B[1malbumentations: \u001B[0mBlur(p=0.01, blur_limit=(3, 7)), MedianBlur(p=0.01, blur_limit=(3, 7)), ToGray(p=0.01), CLAHE(p=0.01, clip_limit=(1, 4.0), tile_grid_size=(8, 8))\n",
      "\n",
      "      Epoch    GPU_mem   box_loss   cls_loss   dfl_loss  Instances       Size\n",
      "      11/20      4.76G     0.9457     0.7444      1.028        110        704: 100% 1111/1111 [07:52<00:00,  2.35it/s]\n",
      "                 Class     Images  Instances      Box(P          R      mAP50  mAP50-95): 100% 54/54 [00:24<00:00,  2.17it/s]\n",
      "                   all       1697      13790      0.832      0.759      0.823      0.614\n",
      "\n",
      "      Epoch    GPU_mem   box_loss   cls_loss   dfl_loss  Instances       Size\n",
      "      12/20      3.45G     0.9299     0.7096      1.018         71        704: 100% 1111/1111 [07:58<00:00,  2.32it/s]\n",
      "                 Class     Images  Instances      Box(P          R      mAP50  mAP50-95): 100% 54/54 [00:23<00:00,  2.25it/s]\n",
      "                   all       1697      13790      0.837      0.754      0.825      0.618\n",
      "\n",
      "      Epoch    GPU_mem   box_loss   cls_loss   dfl_loss  Instances       Size\n",
      "      13/20       3.8G     0.9111     0.6847      1.009         73        704: 100% 1111/1111 [07:52<00:00,  2.35it/s]\n",
      "                 Class     Images  Instances      Box(P          R      mAP50  mAP50-95): 100% 54/54 [00:25<00:00,  2.14it/s]\n",
      "                   all       1697      13790      0.847      0.765       0.83      0.628\n",
      "\n",
      "      Epoch    GPU_mem   box_loss   cls_loss   dfl_loss  Instances       Size\n",
      "      14/20      4.59G      0.899     0.6614      1.004         59        704: 100% 1111/1111 [07:53<00:00,  2.35it/s]\n",
      "                 Class     Images  Instances      Box(P          R      mAP50  mAP50-95): 100% 54/54 [00:26<00:00,  2.02it/s]\n",
      "                   all       1697      13790      0.861      0.777      0.846      0.645\n",
      "\n",
      "      Epoch    GPU_mem   box_loss   cls_loss   dfl_loss  Instances       Size\n",
      "      15/20      4.86G     0.8813     0.6354     0.9954         65        704: 100% 1111/1111 [07:54<00:00,  2.34it/s]\n",
      "                 Class     Images  Instances      Box(P          R      mAP50  mAP50-95): 100% 54/54 [00:23<00:00,  2.30it/s]\n",
      "                   all       1697      13790      0.859       0.79      0.847      0.644\n",
      "\n",
      "      Epoch    GPU_mem   box_loss   cls_loss   dfl_loss  Instances       Size\n",
      "      16/20      4.06G     0.8667     0.6154     0.9855        104        704: 100% 1111/1111 [07:44<00:00,  2.39it/s]\n",
      "                 Class     Images  Instances      Box(P          R      mAP50  mAP50-95): 100% 54/54 [00:23<00:00,  2.27it/s]\n",
      "                   all       1697      13790      0.877      0.782      0.856      0.657\n",
      "\n",
      "      Epoch    GPU_mem   box_loss   cls_loss   dfl_loss  Instances       Size\n",
      "      17/20      3.93G     0.8507     0.5904     0.9775         72        704: 100% 1111/1111 [07:38<00:00,  2.42it/s]\n",
      "                 Class     Images  Instances      Box(P          R      mAP50  mAP50-95): 100% 54/54 [00:25<00:00,  2.12it/s]\n",
      "                   all       1697      13790      0.876      0.789       0.86       0.66\n",
      "\n",
      "      Epoch    GPU_mem   box_loss   cls_loss   dfl_loss  Instances       Size\n",
      "      18/20       4.2G     0.8354     0.5722       0.97         71        704: 100% 1111/1111 [07:41<00:00,  2.41it/s]\n",
      "                 Class     Images  Instances      Box(P          R      mAP50  mAP50-95): 100% 54/54 [00:25<00:00,  2.08it/s]\n",
      "                   all       1697      13790      0.879      0.799      0.865      0.668\n",
      "\n",
      "      Epoch    GPU_mem   box_loss   cls_loss   dfl_loss  Instances       Size\n",
      "      19/20      4.21G     0.8231     0.5541     0.9652        114        704: 100% 1111/1111 [07:29<00:00,  2.47it/s]\n",
      "                 Class     Images  Instances      Box(P          R      mAP50  mAP50-95): 100% 54/54 [00:23<00:00,  2.31it/s]\n",
      "                   all       1697      13790      0.881      0.802      0.868      0.671\n",
      "\n",
      "      Epoch    GPU_mem   box_loss   cls_loss   dfl_loss  Instances       Size\n",
      "      20/20      3.49G     0.8095     0.5383     0.9597         79        704: 100% 1111/1111 [07:29<00:00,  2.47it/s]\n",
      "                 Class     Images  Instances      Box(P          R      mAP50  mAP50-95): 100% 54/54 [00:23<00:00,  2.30it/s]\n",
      "                   all       1697      13790      0.883      0.807      0.872      0.676\n",
      "\n",
      "20 epochs completed in 2.920 hours.\n",
      "Optimizer stripped from runs/detect/train10/weights/last.pt, 6.3MB\n",
      "Optimizer stripped from runs/detect/train10/weights/best.pt, 6.3MB\n",
      "\n",
      "Validating runs/detect/train10/weights/best.pt...\n",
      "Ultralytics YOLOv8.0.225 🚀 Python-3.10.12 torch-2.1.0+cu118 CUDA:0 (Tesla T4, 15102MiB)\n",
      "Model summary (fused): 168 layers, 3005843 parameters, 0 gradients, 8.1 GFLOPs\n",
      "                 Class     Images  Instances      Box(P          R      mAP50  mAP50-95): 100% 54/54 [00:31<00:00,  1.73it/s]\n",
      "                   all       1697      13790      0.883      0.806      0.872      0.676\n",
      "Speed: 0.3ms preprocess, 2.6ms inference, 0.0ms loss, 2.3ms postprocess per image\n",
      "Results saved to \u001B[1mruns/detect/train10\u001B[0m\n",
      "💡 Learn more at https://docs.ultralytics.com/modes/train\n"
     ]
    }
   ]
  },
  {
   "cell_type": "code",
   "source": [
    "# Check the folder with training result\n",
    "!ls datasets/runs/detect/train/"
   ],
   "metadata": {
    "colab": {
     "base_uri": "https://localhost:8080/"
    },
    "id": "Tl8EAhqhnwCc",
    "outputId": "e98a2de0-53c8-4fcf-80b6-911751d41e62"
   },
   "execution_count": 29,
   "outputs": [
    {
     "output_type": "stream",
     "name": "stdout",
     "text": [
      "ls: cannot access 'datasets/runs/detect/train/': No such file or directory\n"
     ]
    }
   ]
  }
 ]
}
