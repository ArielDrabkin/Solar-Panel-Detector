{
 "nbformat": 4,
 "nbformat_minor": 0,
 "metadata": {
  "colab": {
   "provenance": [],
   "gpuType": "T4"
  },
  "kernelspec": {
   "name": "python3",
   "display_name": "Python 3"
  },
  "language_info": {
   "name": "python"
  },
  "accelerator": "GPU"
 },
 "cells": [
  {
   "cell_type": "code",
   "execution_count": 1,
   "metadata": {
    "colab": {
     "base_uri": "https://localhost:8080/"
    },
    "id": "k3CBdckmnZ91",
    "outputId": "0054439d-8563-4f80-a2cb-12201c94acc4"
   },
   "outputs": [
    {
     "output_type": "stream",
     "name": "stdout",
     "text": [
      "Tue Dec 12 08:21:56 2023       \n",
      "+-----------------------------------------------------------------------------+\n",
      "| NVIDIA-SMI 525.105.17   Driver Version: 525.105.17   CUDA Version: 12.0     |\n",
      "|-------------------------------+----------------------+----------------------+\n",
      "| GPU  Name        Persistence-M| Bus-Id        Disp.A | Volatile Uncorr. ECC |\n",
      "| Fan  Temp  Perf  Pwr:Usage/Cap|         Memory-Usage | GPU-Util  Compute M. |\n",
      "|                               |                      |               MIG M. |\n",
      "|===============================+======================+======================|\n",
      "|   0  Tesla T4            Off  | 00000000:00:04.0 Off |                    0 |\n",
      "| N/A   41C    P8     9W /  70W |      0MiB / 15360MiB |      0%      Default |\n",
      "|                               |                      |                  N/A |\n",
      "+-------------------------------+----------------------+----------------------+\n",
      "                                                                               \n",
      "+-----------------------------------------------------------------------------+\n",
      "| Processes:                                                                  |\n",
      "|  GPU   GI   CI        PID   Type   Process name                  GPU Memory |\n",
      "|        ID   ID                                                   Usage      |\n",
      "|=============================================================================|\n",
      "|  No running processes found                                                 |\n",
      "+-----------------------------------------------------------------------------+\n"
     ]
    }
   ],
   "source": [
    "!nvidia-smi"
   ]
  },
  {
   "cell_type": "code",
   "source": [
    "!pip install ultralytics"
   ],
   "metadata": {
    "colab": {
     "base_uri": "https://localhost:8080/"
    },
    "id": "tCLmhlEGDLfz",
    "outputId": "afaa7a6a-8d1b-4b52-b7e5-4bdd0302150c"
   },
   "execution_count": 2,
   "outputs": [
    {
     "output_type": "stream",
     "name": "stdout",
     "text": [
      "Collecting ultralytics\n",
      "  Downloading ultralytics-8.0.227-py3-none-any.whl (660 kB)\n",
      "\u001B[2K     \u001B[90m━━━━━━━━━━━━━━━━━━━━━━━━━━━━━━━━━━━━━━━━\u001B[0m \u001B[32m660.5/660.5 kB\u001B[0m \u001B[31m4.2 MB/s\u001B[0m eta \u001B[36m0:00:00\u001B[0m\n",
      "\u001B[?25hRequirement already satisfied: matplotlib>=3.3.0 in /usr/local/lib/python3.10/dist-packages (from ultralytics) (3.7.1)\n",
      "Requirement already satisfied: numpy>=1.22.2 in /usr/local/lib/python3.10/dist-packages (from ultralytics) (1.23.5)\n",
      "Requirement already satisfied: opencv-python>=4.6.0 in /usr/local/lib/python3.10/dist-packages (from ultralytics) (4.8.0.76)\n",
      "Requirement already satisfied: pillow>=7.1.2 in /usr/local/lib/python3.10/dist-packages (from ultralytics) (9.4.0)\n",
      "Requirement already satisfied: pyyaml>=5.3.1 in /usr/local/lib/python3.10/dist-packages (from ultralytics) (6.0.1)\n",
      "Requirement already satisfied: requests>=2.23.0 in /usr/local/lib/python3.10/dist-packages (from ultralytics) (2.31.0)\n",
      "Requirement already satisfied: scipy>=1.4.1 in /usr/local/lib/python3.10/dist-packages (from ultralytics) (1.11.4)\n",
      "Requirement already satisfied: torch>=1.8.0 in /usr/local/lib/python3.10/dist-packages (from ultralytics) (2.1.0+cu118)\n",
      "Requirement already satisfied: torchvision>=0.9.0 in /usr/local/lib/python3.10/dist-packages (from ultralytics) (0.16.0+cu118)\n",
      "Requirement already satisfied: tqdm>=4.64.0 in /usr/local/lib/python3.10/dist-packages (from ultralytics) (4.66.1)\n",
      "Requirement already satisfied: pandas>=1.1.4 in /usr/local/lib/python3.10/dist-packages (from ultralytics) (1.5.3)\n",
      "Requirement already satisfied: seaborn>=0.11.0 in /usr/local/lib/python3.10/dist-packages (from ultralytics) (0.12.2)\n",
      "Requirement already satisfied: psutil in /usr/local/lib/python3.10/dist-packages (from ultralytics) (5.9.5)\n",
      "Requirement already satisfied: py-cpuinfo in /usr/local/lib/python3.10/dist-packages (from ultralytics) (9.0.0)\n",
      "Collecting thop>=0.1.1 (from ultralytics)\n",
      "  Downloading thop-0.1.1.post2209072238-py3-none-any.whl (15 kB)\n",
      "Requirement already satisfied: contourpy>=1.0.1 in /usr/local/lib/python3.10/dist-packages (from matplotlib>=3.3.0->ultralytics) (1.2.0)\n",
      "Requirement already satisfied: cycler>=0.10 in /usr/local/lib/python3.10/dist-packages (from matplotlib>=3.3.0->ultralytics) (0.12.1)\n",
      "Requirement already satisfied: fonttools>=4.22.0 in /usr/local/lib/python3.10/dist-packages (from matplotlib>=3.3.0->ultralytics) (4.46.0)\n",
      "Requirement already satisfied: kiwisolver>=1.0.1 in /usr/local/lib/python3.10/dist-packages (from matplotlib>=3.3.0->ultralytics) (1.4.5)\n",
      "Requirement already satisfied: packaging>=20.0 in /usr/local/lib/python3.10/dist-packages (from matplotlib>=3.3.0->ultralytics) (23.2)\n",
      "Requirement already satisfied: pyparsing>=2.3.1 in /usr/local/lib/python3.10/dist-packages (from matplotlib>=3.3.0->ultralytics) (3.1.1)\n",
      "Requirement already satisfied: python-dateutil>=2.7 in /usr/local/lib/python3.10/dist-packages (from matplotlib>=3.3.0->ultralytics) (2.8.2)\n",
      "Requirement already satisfied: pytz>=2020.1 in /usr/local/lib/python3.10/dist-packages (from pandas>=1.1.4->ultralytics) (2023.3.post1)\n",
      "Requirement already satisfied: charset-normalizer<4,>=2 in /usr/local/lib/python3.10/dist-packages (from requests>=2.23.0->ultralytics) (3.3.2)\n",
      "Requirement already satisfied: idna<4,>=2.5 in /usr/local/lib/python3.10/dist-packages (from requests>=2.23.0->ultralytics) (3.6)\n",
      "Requirement already satisfied: urllib3<3,>=1.21.1 in /usr/local/lib/python3.10/dist-packages (from requests>=2.23.0->ultralytics) (2.0.7)\n",
      "Requirement already satisfied: certifi>=2017.4.17 in /usr/local/lib/python3.10/dist-packages (from requests>=2.23.0->ultralytics) (2023.11.17)\n",
      "Requirement already satisfied: filelock in /usr/local/lib/python3.10/dist-packages (from torch>=1.8.0->ultralytics) (3.13.1)\n",
      "Requirement already satisfied: typing-extensions in /usr/local/lib/python3.10/dist-packages (from torch>=1.8.0->ultralytics) (4.5.0)\n",
      "Requirement already satisfied: sympy in /usr/local/lib/python3.10/dist-packages (from torch>=1.8.0->ultralytics) (1.12)\n",
      "Requirement already satisfied: networkx in /usr/local/lib/python3.10/dist-packages (from torch>=1.8.0->ultralytics) (3.2.1)\n",
      "Requirement already satisfied: jinja2 in /usr/local/lib/python3.10/dist-packages (from torch>=1.8.0->ultralytics) (3.1.2)\n",
      "Requirement already satisfied: fsspec in /usr/local/lib/python3.10/dist-packages (from torch>=1.8.0->ultralytics) (2023.6.0)\n",
      "Requirement already satisfied: triton==2.1.0 in /usr/local/lib/python3.10/dist-packages (from torch>=1.8.0->ultralytics) (2.1.0)\n",
      "Requirement already satisfied: six>=1.5 in /usr/local/lib/python3.10/dist-packages (from python-dateutil>=2.7->matplotlib>=3.3.0->ultralytics) (1.16.0)\n",
      "Requirement already satisfied: MarkupSafe>=2.0 in /usr/local/lib/python3.10/dist-packages (from jinja2->torch>=1.8.0->ultralytics) (2.1.3)\n",
      "Requirement already satisfied: mpmath>=0.19 in /usr/local/lib/python3.10/dist-packages (from sympy->torch>=1.8.0->ultralytics) (1.3.0)\n",
      "Installing collected packages: thop, ultralytics\n",
      "Successfully installed thop-0.1.1.post2209072238 ultralytics-8.0.227\n"
     ]
    }
   ]
  },
  {
   "cell_type": "code",
   "source": [
    "!pip install roboflow"
   ],
   "metadata": {
    "colab": {
     "base_uri": "https://localhost:8080/"
    },
    "id": "cYyhOG2ZyeJ5",
    "outputId": "e16ba1e6-bdb7-4239-c09f-65671d5d3d52"
   },
   "execution_count": 1,
   "outputs": [
    {
     "output_type": "stream",
     "name": "stdout",
     "text": [
      "Requirement already satisfied: roboflow in /usr/local/lib/python3.10/dist-packages (1.1.12)\n",
      "Requirement already satisfied: certifi==2023.7.22 in /usr/local/lib/python3.10/dist-packages (from roboflow) (2023.7.22)\n",
      "Requirement already satisfied: chardet==4.0.0 in /usr/local/lib/python3.10/dist-packages (from roboflow) (4.0.0)\n",
      "Requirement already satisfied: cycler==0.10.0 in /usr/local/lib/python3.10/dist-packages (from roboflow) (0.10.0)\n",
      "Requirement already satisfied: idna==2.10 in /usr/local/lib/python3.10/dist-packages (from roboflow) (2.10)\n",
      "Requirement already satisfied: kiwisolver>=1.3.1 in /usr/local/lib/python3.10/dist-packages (from roboflow) (1.4.5)\n",
      "Requirement already satisfied: matplotlib in /usr/local/lib/python3.10/dist-packages (from roboflow) (3.7.1)\n",
      "Requirement already satisfied: numpy>=1.18.5 in /usr/local/lib/python3.10/dist-packages (from roboflow) (1.23.5)\n",
      "Requirement already satisfied: opencv-python-headless==4.8.0.74 in /usr/local/lib/python3.10/dist-packages (from roboflow) (4.8.0.74)\n",
      "Requirement already satisfied: Pillow>=7.1.2 in /usr/local/lib/python3.10/dist-packages (from roboflow) (9.4.0)\n",
      "Requirement already satisfied: pyparsing==2.4.7 in /usr/local/lib/python3.10/dist-packages (from roboflow) (2.4.7)\n",
      "Requirement already satisfied: python-dateutil in /usr/local/lib/python3.10/dist-packages (from roboflow) (2.8.2)\n",
      "Requirement already satisfied: python-dotenv in /usr/local/lib/python3.10/dist-packages (from roboflow) (1.0.0)\n",
      "Requirement already satisfied: requests in /usr/local/lib/python3.10/dist-packages (from roboflow) (2.31.0)\n",
      "Requirement already satisfied: six in /usr/local/lib/python3.10/dist-packages (from roboflow) (1.16.0)\n",
      "Requirement already satisfied: supervision in /usr/local/lib/python3.10/dist-packages (from roboflow) (0.17.1)\n",
      "Requirement already satisfied: urllib3>=1.26.6 in /usr/local/lib/python3.10/dist-packages (from roboflow) (1.26.18)\n",
      "Requirement already satisfied: tqdm>=4.41.0 in /usr/local/lib/python3.10/dist-packages (from roboflow) (4.66.1)\n",
      "Requirement already satisfied: PyYAML>=5.3.1 in /usr/local/lib/python3.10/dist-packages (from roboflow) (6.0.1)\n",
      "Requirement already satisfied: requests-toolbelt in /usr/local/lib/python3.10/dist-packages (from roboflow) (1.0.0)\n",
      "Requirement already satisfied: python-magic in /usr/local/lib/python3.10/dist-packages (from roboflow) (0.4.27)\n",
      "Requirement already satisfied: contourpy>=1.0.1 in /usr/local/lib/python3.10/dist-packages (from matplotlib->roboflow) (1.2.0)\n",
      "Requirement already satisfied: fonttools>=4.22.0 in /usr/local/lib/python3.10/dist-packages (from matplotlib->roboflow) (4.46.0)\n",
      "Requirement already satisfied: packaging>=20.0 in /usr/local/lib/python3.10/dist-packages (from matplotlib->roboflow) (23.2)\n",
      "Requirement already satisfied: charset-normalizer<4,>=2 in /usr/local/lib/python3.10/dist-packages (from requests->roboflow) (3.3.2)\n",
      "Requirement already satisfied: scipy>=1.9.0 in /usr/local/lib/python3.10/dist-packages (from supervision->roboflow) (1.11.4)\n"
     ]
    }
   ]
  },
  {
   "cell_type": "code",
   "source": [
    "# If you don't have ClearML and ClearML Agent installed then uncomment these line\n",
    "!pip install clearml\n",
    "!pip install clearml-agent"
   ],
   "metadata": {
    "colab": {
     "base_uri": "https://localhost:8080/"
    },
    "id": "91Epfz-Yio7X",
    "outputId": "a61cf392-ed7b-4778-b1bf-e4f787fb1b54"
   },
   "execution_count": 2,
   "outputs": [
    {
     "output_type": "stream",
     "name": "stdout",
     "text": [
      "Requirement already satisfied: clearml in /usr/local/lib/python3.10/dist-packages (1.13.2)\n",
      "Requirement already satisfied: attrs>=18.0 in /usr/local/lib/python3.10/dist-packages (from clearml) (22.2.0)\n",
      "Requirement already satisfied: furl>=2.0.0 in /usr/local/lib/python3.10/dist-packages (from clearml) (2.1.3)\n",
      "Requirement already satisfied: jsonschema>=2.6.0 in /usr/local/lib/python3.10/dist-packages (from clearml) (4.19.2)\n",
      "Requirement already satisfied: numpy>=1.10 in /usr/local/lib/python3.10/dist-packages (from clearml) (1.23.5)\n",
      "Requirement already satisfied: pathlib2>=2.3.0 in /usr/local/lib/python3.10/dist-packages (from clearml) (2.3.7.post1)\n",
      "Requirement already satisfied: Pillow>=4.1.1 in /usr/local/lib/python3.10/dist-packages (from clearml) (9.4.0)\n",
      "Requirement already satisfied: psutil>=3.4.2 in /usr/local/lib/python3.10/dist-packages (from clearml) (5.9.5)\n",
      "Requirement already satisfied: pyparsing>=2.0.3 in /usr/local/lib/python3.10/dist-packages (from clearml) (2.4.7)\n",
      "Requirement already satisfied: python-dateutil>=2.6.1 in /usr/local/lib/python3.10/dist-packages (from clearml) (2.8.2)\n",
      "Requirement already satisfied: PyYAML>=3.12 in /usr/local/lib/python3.10/dist-packages (from clearml) (6.0.1)\n",
      "Requirement already satisfied: requests>=2.20.0 in /usr/local/lib/python3.10/dist-packages (from clearml) (2.31.0)\n",
      "Requirement already satisfied: six>=1.13.0 in /usr/local/lib/python3.10/dist-packages (from clearml) (1.16.0)\n",
      "Requirement already satisfied: urllib3>=1.21.1 in /usr/local/lib/python3.10/dist-packages (from clearml) (1.26.18)\n",
      "Requirement already satisfied: pyjwt<2.9.0,>=2.4.0 in /usr/local/lib/python3.10/dist-packages (from clearml) (2.6.0)\n",
      "Requirement already satisfied: referencing<0.40 in /usr/local/lib/python3.10/dist-packages (from clearml) (0.31.1)\n",
      "Requirement already satisfied: orderedmultidict>=1.0.1 in /usr/local/lib/python3.10/dist-packages (from furl>=2.0.0->clearml) (1.0.1)\n",
      "Requirement already satisfied: jsonschema-specifications>=2023.03.6 in /usr/local/lib/python3.10/dist-packages (from jsonschema>=2.6.0->clearml) (2023.11.2)\n",
      "Requirement already satisfied: rpds-py>=0.7.1 in /usr/local/lib/python3.10/dist-packages (from jsonschema>=2.6.0->clearml) (0.13.2)\n",
      "Requirement already satisfied: charset-normalizer<4,>=2 in /usr/local/lib/python3.10/dist-packages (from requests>=2.20.0->clearml) (3.3.2)\n",
      "Requirement already satisfied: idna<4,>=2.5 in /usr/local/lib/python3.10/dist-packages (from requests>=2.20.0->clearml) (2.10)\n",
      "Requirement already satisfied: certifi>=2017.4.17 in /usr/local/lib/python3.10/dist-packages (from requests>=2.20.0->clearml) (2023.7.22)\n",
      "Requirement already satisfied: clearml-agent in /usr/local/lib/python3.10/dist-packages (1.6.1)\n",
      "Requirement already satisfied: attrs<23.0.0,>=18.0 in /usr/local/lib/python3.10/dist-packages (from clearml-agent) (22.2.0)\n",
      "Requirement already satisfied: furl<2.2.0,>=2.0.0 in /usr/local/lib/python3.10/dist-packages (from clearml-agent) (2.1.3)\n",
      "Requirement already satisfied: jsonschema<5.0.0,>=2.6.0 in /usr/local/lib/python3.10/dist-packages (from clearml-agent) (4.19.2)\n",
      "Requirement already satisfied: pathlib2<2.4.0,>=2.3.0 in /usr/local/lib/python3.10/dist-packages (from clearml-agent) (2.3.7.post1)\n",
      "Requirement already satisfied: psutil<5.10.0,>=3.4.2 in /usr/local/lib/python3.10/dist-packages (from clearml-agent) (5.9.5)\n",
      "Requirement already satisfied: pyparsing<3.1.0,>=2.0.3 in /usr/local/lib/python3.10/dist-packages (from clearml-agent) (2.4.7)\n",
      "Requirement already satisfied: python-dateutil<2.9.0,>=2.4.2 in /usr/local/lib/python3.10/dist-packages (from clearml-agent) (2.8.2)\n",
      "Requirement already satisfied: pyjwt<2.7.0,>=2.4.0 in /usr/local/lib/python3.10/dist-packages (from clearml-agent) (2.6.0)\n",
      "Requirement already satisfied: PyYAML<6.1,>=3.12 in /usr/local/lib/python3.10/dist-packages (from clearml-agent) (6.0.1)\n",
      "Requirement already satisfied: requests<=2.31.0,>=2.20.0 in /usr/local/lib/python3.10/dist-packages (from clearml-agent) (2.31.0)\n",
      "Requirement already satisfied: six<1.17.0,>=1.13.0 in /usr/local/lib/python3.10/dist-packages (from clearml-agent) (1.16.0)\n",
      "Requirement already satisfied: urllib3<1.27.0,>=1.21.1 in /usr/local/lib/python3.10/dist-packages (from clearml-agent) (1.26.18)\n",
      "Requirement already satisfied: virtualenv<21,>=16 in /usr/local/lib/python3.10/dist-packages (from clearml-agent) (20.25.0)\n",
      "Requirement already satisfied: orderedmultidict>=1.0.1 in /usr/local/lib/python3.10/dist-packages (from furl<2.2.0,>=2.0.0->clearml-agent) (1.0.1)\n",
      "Requirement already satisfied: jsonschema-specifications>=2023.03.6 in /usr/local/lib/python3.10/dist-packages (from jsonschema<5.0.0,>=2.6.0->clearml-agent) (2023.11.2)\n",
      "Requirement already satisfied: referencing>=0.28.4 in /usr/local/lib/python3.10/dist-packages (from jsonschema<5.0.0,>=2.6.0->clearml-agent) (0.31.1)\n",
      "Requirement already satisfied: rpds-py>=0.7.1 in /usr/local/lib/python3.10/dist-packages (from jsonschema<5.0.0,>=2.6.0->clearml-agent) (0.13.2)\n",
      "Requirement already satisfied: charset-normalizer<4,>=2 in /usr/local/lib/python3.10/dist-packages (from requests<=2.31.0,>=2.20.0->clearml-agent) (3.3.2)\n",
      "Requirement already satisfied: idna<4,>=2.5 in /usr/local/lib/python3.10/dist-packages (from requests<=2.31.0,>=2.20.0->clearml-agent) (2.10)\n",
      "Requirement already satisfied: certifi>=2017.4.17 in /usr/local/lib/python3.10/dist-packages (from requests<=2.31.0,>=2.20.0->clearml-agent) (2023.7.22)\n",
      "Requirement already satisfied: distlib<1,>=0.3.7 in /usr/local/lib/python3.10/dist-packages (from virtualenv<21,>=16->clearml-agent) (0.3.8)\n",
      "Requirement already satisfied: filelock<4,>=3.12.2 in /usr/local/lib/python3.10/dist-packages (from virtualenv<21,>=16->clearml-agent) (3.13.1)\n",
      "Requirement already satisfied: platformdirs<5,>=3.9.1 in /usr/local/lib/python3.10/dist-packages (from virtualenv<21,>=16->clearml-agent) (4.1.0)\n"
     ]
    }
   ]
  },
  {
   "cell_type": "code",
   "source": [
    "from IPython.display import display, Image\n",
    "from IPython import display\n",
    "display.clear_output()\n",
    "import os\n",
    "import json\n",
    "\n",
    "import ultralytics\n",
    "from ultralytics import YOLO\n",
    "ultralytics.checks()\n",
    "\n",
    "from roboflow import Roboflow\n",
    "\n",
    "from clearml import Task"
   ],
   "metadata": {
    "colab": {
     "base_uri": "https://localhost:8080/"
    },
    "id": "PX9Dyt0cne3_",
    "outputId": "b053fe49-8b40-46c9-8376-efc4d7454225"
   },
   "execution_count": 3,
   "outputs": [
    {
     "output_type": "stream",
     "name": "stdout",
     "text": [
      "Ultralytics YOLOv8.0.227 🚀 Python-3.10.12 torch-2.1.0+cu118 CUDA:0 (Tesla T4, 15102MiB)\n",
      "Setup complete ✅ (2 CPUs, 12.7 GB RAM, 27.2/78.2 GB disk)\n"
     ]
    }
   ]
  },
  {
   "cell_type": "code",
   "source": [
    "! export MPLBACKEND=TkAg"
   ],
   "metadata": {
    "id": "uECkIQQUi-rs"
   },
   "execution_count": 4,
   "outputs": []
  },
  {
   "cell_type": "code",
   "source": [
    "#@title Insert your own Credentials\n",
    "\n",
    "web_server = 'https://app.clear.ml'#@param {type:\"string\"}\n",
    "api_server = 'https://api.clear.ml'#@param {type:\"string\"}\n",
    "files_server = 'https://files.clear.ml'#@param {type:\"string\"}\n",
    "with open(\"secret.json\") as file:\n",
    "    access_key = json.load(file)[\"clearml_access_key\"]#@param {type:\"string\"}\n",
    "    secret_key = json.load(file)[\"clearml_secret_key\"]#@param {type:\"string\"}\n",
    "\n",
    "Task.set_credentials(web_host=web_server,\n",
    "                     api_host=api_server,\n",
    "                     files_host=files_server,\n",
    "                     key=access_key,\n",
    "                     secret=secret_key\n",
    "                     )"
   ],
   "metadata": {
    "id": "OH6U7M-EjIqu"
   },
   "execution_count": 5,
   "outputs": []
  },
  {
   "cell_type": "code",
   "source": [
    "# Run the agent, you will need to stop it manually once your tas gets an id number\n",
    "!clearml-agent daemon --queue default"
   ],
   "metadata": {
    "colab": {
     "base_uri": "https://localhost:8080/"
    },
    "id": "ZoC2eienk2v4",
    "outputId": "8400182d-767f-4c2c-dab2-763e9e5380aa"
   },
   "execution_count": 6,
   "outputs": [
    {
     "output_type": "stream",
     "name": "stdout",
     "text": [
      "Using environment access key CLEARML_API_ACCESS_KEY=HW5700GYW80WJGC764JJ\n",
      "Using environment secret key CLEARML_API_SECRET_KEY=********\n",
      "Current configuration (clearml_agent v1.6.1, location: None):\n",
      "----------------------\n",
      "sdk.storage.cache.default_base_dir = ~/.clearml/cache\n",
      "sdk.storage.cache.size.min_free_bytes = 10GB\n",
      "sdk.storage.direct_access.0.url = file://*\n",
      "sdk.metrics.file_history_size = 100\n",
      "sdk.metrics.matplotlib_untitled_history_size = 100\n",
      "sdk.metrics.images.format = JPEG\n",
      "sdk.metrics.images.quality = 87\n",
      "sdk.metrics.images.subsampling = 0\n",
      "sdk.metrics.tensorboard_single_series_per_graph = false\n",
      "sdk.network.metrics.file_upload_threads = 4\n",
      "sdk.network.metrics.file_upload_starvation_warning_sec = 120\n",
      "sdk.network.iteration.max_retries_on_server_error = 5\n",
      "sdk.network.iteration.retry_backoff_factor_sec = 10\n",
      "sdk.aws.s3.key = \n",
      "sdk.aws.s3.region = \n",
      "sdk.aws.boto3.pool_connections = 512\n",
      "sdk.aws.boto3.max_multipart_concurrency = 16\n",
      "sdk.log.null_log_propagate = false\n",
      "sdk.log.task_log_buffer_capacity = 66\n",
      "sdk.log.disable_urllib3_info = true\n",
      "sdk.development.task_reuse_time_window_in_hours = 72.0\n",
      "sdk.development.vcs_repo_detect_async = true\n",
      "sdk.development.store_uncommitted_code_diff = true\n",
      "sdk.development.support_stopping = true\n",
      "sdk.development.default_output_uri = \n",
      "sdk.development.force_analyze_entire_repo = false\n",
      "sdk.development.suppress_update_message = false\n",
      "sdk.development.detect_with_pip_freeze = false\n",
      "sdk.development.worker.report_period_sec = 2\n",
      "sdk.development.worker.ping_period_sec = 30\n",
      "sdk.development.worker.log_stdout = true\n",
      "sdk.development.worker.report_global_mem_used = false\n",
      "api.version = 1.5\n",
      "api.verify_certificate = true\n",
      "api.default_version = 1.5\n",
      "api.http.max_req_size = 15728640\n",
      "api.http.retries.total = 240\n",
      "api.http.retries.connect = 240\n",
      "api.http.retries.read = 240\n",
      "api.http.retries.redirect = 240\n",
      "api.http.retries.status = 240\n",
      "api.http.retries.backoff_factor = 1.0\n",
      "api.http.retries.backoff_max = 120.0\n",
      "api.http.wait_on_maintenance_forever = true\n",
      "api.http.pool_maxsize = 512\n",
      "api.http.pool_connections = 512\n",
      "api.api_server = https://api.clear.ml\n",
      "api.files_server = https://files.clear.ml\n",
      "api.web_server = https://app.clear.ml\n",
      "api.credentials.access_key = HW5700GYW80WJGC764JJ\n",
      "agent.worker_id = \n",
      "agent.worker_name = 2dbac45b6845\n",
      "agent.force_git_ssh_protocol = false\n",
      "agent.python_binary = \n",
      "agent.package_manager.type = pip\n",
      "agent.package_manager.pip_version.0 = <20.2 ; python_version < '3.10'\n",
      "agent.package_manager.pip_version.1 = <22.3 ; python_version >\\= '3.10'\n",
      "agent.package_manager.system_site_packages = false\n",
      "agent.package_manager.force_upgrade = false\n",
      "agent.package_manager.conda_channels.0 = pytorch\n",
      "agent.package_manager.conda_channels.1 = conda-forge\n",
      "agent.package_manager.conda_channels.2 = defaults\n",
      "agent.package_manager.priority_optional_packages.0 = pygobject\n",
      "agent.package_manager.torch_nightly = false\n",
      "agent.package_manager.poetry_files_from_repo_working_dir = false\n",
      "agent.venvs_dir = /root/.clearml/venvs-builds\n",
      "agent.venvs_cache.max_entries = 10\n",
      "agent.venvs_cache.free_space_threshold_gb = 2.0\n",
      "agent.venvs_cache.path = ~/.clearml/venvs-cache\n",
      "agent.vcs_cache.enabled = true\n",
      "agent.vcs_cache.path = /root/.clearml/vcs-cache\n",
      "agent.venv_update.enabled = false\n",
      "agent.pip_download_cache.enabled = true\n",
      "agent.pip_download_cache.path = /root/.clearml/pip-download-cache\n",
      "agent.translate_ssh = true\n",
      "agent.reload_config = false\n",
      "agent.docker_pip_cache = /root/.clearml/pip-cache\n",
      "agent.docker_apt_cache = /root/.clearml/apt-cache\n",
      "agent.docker_force_pull = false\n",
      "agent.default_docker.image = nvidia/cuda:11.0.3-cudnn8-runtime-ubuntu20.04\n",
      "agent.enable_task_env = false\n",
      "agent.hide_docker_command_env_vars.enabled = true\n",
      "agent.hide_docker_command_env_vars.parse_embedded_urls = true\n",
      "agent.abort_callback_max_timeout = 1800\n",
      "agent.docker_internal_mounts.sdk_cache = /clearml_agent_cache\n",
      "agent.docker_internal_mounts.apt_cache = /var/cache/apt/archives\n",
      "agent.docker_internal_mounts.ssh_folder = ~/.ssh\n",
      "agent.docker_internal_mounts.ssh_ro_folder = /.ssh\n",
      "agent.docker_internal_mounts.pip_cache = /root/.cache/pip\n",
      "agent.docker_internal_mounts.poetry_cache = /root/.cache/pypoetry\n",
      "agent.docker_internal_mounts.vcs_cache = /root/.clearml/vcs-cache\n",
      "agent.docker_internal_mounts.venv_build = ~/.clearml/venvs-builds\n",
      "agent.docker_internal_mounts.pip_download = /root/.clearml/pip-download-cache\n",
      "agent.apply_environment = true\n",
      "agent.apply_files = true\n",
      "agent.custom_build_script = \n",
      "agent.disable_task_docker_override = false\n",
      "agent.default_python = 3.10\n",
      "agent.cuda_version = 118\n",
      "agent.cudnn_version = 0\n",
      "\n",
      "Worker \"2dbac45b6845:gpuall\" - Listening to queues:\n",
      "+----------------------------------+---------+-------+\n",
      "| id                               | name    | tags  |\n",
      "+----------------------------------+---------+-------+\n",
      "| d00804d5429d4ea39113a78d67e8e6c4 | default |       |\n",
      "+----------------------------------+---------+-------+\n",
      "\n",
      "Running CLEARML-AGENT daemon in background mode, writing stdout/stderr to /tmp/.clearml_agent_daemon_outbpno6ls9.txt\n"
     ]
    }
   ]
  },
  {
   "cell_type": "code",
   "source": [
    "# Load the data sets from roboflow\n",
    "with open(\"secret.json\") as file:\n",
    "    roboflow_api_key = json.load(file)[\"roboflow_api_key\"]\n",
    "rf = Roboflow(api_key=roboflow_api_key)\n",
    "project = rf.workspace(\"ariel-drabkin-tifqg\").project(\"solar-panel-detector-imvoh\")\n",
    "dataset = project.version(1).download(\"yolov8\")"
   ],
   "metadata": {
    "colab": {
     "base_uri": "https://localhost:8080/"
    },
    "id": "q3sdA_J4nAmh",
    "outputId": "d13f45ce-81df-4d0f-de64-8bac3efc2ce4"
   },
   "execution_count": 7,
   "outputs": [
    {
     "output_type": "stream",
     "name": "stdout",
     "text": [
      "loading Roboflow workspace...\n",
      "loading Roboflow project...\n",
      "Dependency ultralytics==8.0.196 is required but found version=8.0.227, to fix: `pip install ultralytics==8.0.196`\n"
     ]
    },
    {
     "output_type": "stream",
     "name": "stderr",
     "text": [
      "Downloading Dataset Version Zip in solar-panel-detection-1 to yolov8:: 100%|██████████| 1166895/1166895 [00:20<00:00, 57110.30it/s]"
     ]
    },
    {
     "output_type": "stream",
     "name": "stdout",
     "text": [
      "\n"
     ]
    },
    {
     "output_type": "stream",
     "name": "stderr",
     "text": [
      "\n",
      "Extracting Dataset Version Zip to solar-panel-detection-1 in yolov8:: 100%|██████████| 40644/40644 [00:11<00:00, 3639.10it/s]\n"
     ]
    }
   ]
  },
  {
   "cell_type": "code",
   "source": [
    "# Train https://docs.ultralytics.com/modes/train/\n",
    "# Before the start of the training make sure to update the data.yaml file with the correct dir of each set\n",
    "path = \"/content/solar-panel-detection-1/data.yaml\"\n",
    "project = \"Solar-Panel-Detector\"\n",
    "name = \"mosaic-augmentation\"\n",
    "\n",
    "!yolo task=detect mode=train model=yolov8n.pt data={path} project={project} name={name} mosaic=1.0 mixup=0.0 copy_paste=0.0 close_mosaic=0 epochs=20 imgsz=680 save_period=5 patience=3 plots=True"
   ],
   "metadata": {
    "colab": {
     "base_uri": "https://localhost:8080/"
    },
    "id": "WP9JksqDnqGQ",
    "outputId": "4492e012-1a28-4612-9275-f58c86fcca2d"
   },
   "execution_count": null,
   "outputs": [
    {
     "output_type": "stream",
     "name": "stdout",
     "text": [
      "Ultralytics YOLOv8.0.227 🚀 Python-3.10.12 torch-2.1.0+cu118 CUDA:0 (Tesla T4, 15102MiB)\n",
      "\u001B[34m\u001B[1mengine/trainer: \u001B[0mtask=detect, mode=train, model=yolov8n.pt, data=/content/solar-panel-detection-1/data.yaml, epochs=20, patience=3, batch=16, imgsz=680, save=True, save_period=5, cache=False, device=None, workers=8, project=Solar-Panel-Detector, name=mosaic-and-mixup-0.5-augmentation4, exist_ok=False, pretrained=True, optimizer=auto, verbose=True, seed=0, deterministic=True, single_cls=False, rect=False, cos_lr=False, close_mosaic=0, resume=False, amp=True, fraction=1.0, profile=False, freeze=None, overlap_mask=True, mask_ratio=4, dropout=0.0, val=True, split=val, save_json=False, save_hybrid=False, conf=None, iou=0.7, max_det=300, half=False, dnn=False, plots=True, source=None, vid_stride=1, stream_buffer=False, visualize=False, augment=False, agnostic_nms=False, classes=None, retina_masks=False, show=False, save_frames=False, save_txt=False, save_conf=False, save_crop=False, show_labels=True, show_conf=True, show_boxes=True, line_width=None, format=torchscript, keras=False, optimize=False, int8=False, dynamic=False, simplify=False, opset=None, workspace=4, nms=False, lr0=0.01, lrf=0.01, momentum=0.937, weight_decay=0.0005, warmup_epochs=3.0, warmup_momentum=0.8, warmup_bias_lr=0.1, box=7.5, cls=0.5, dfl=1.5, pose=12.0, kobj=1.0, label_smoothing=0.0, nbs=64, hsv_h=0.015, hsv_s=0.7, hsv_v=0.4, degrees=0.0, translate=0.1, scale=0.5, shear=0.0, perspective=0.0, flipud=0.0, fliplr=0.5, mosaic=0.5, mixup=0.5, copy_paste=0.0, cfg=None, tracker=botsort.yaml, save_dir=Solar-Panel-Detector/mosaic-and-mixup-0.5-augmentation4\n",
      "2023-12-12 11:00:54.354873: E tensorflow/compiler/xla/stream_executor/cuda/cuda_dnn.cc:9342] Unable to register cuDNN factory: Attempting to register factory for plugin cuDNN when one has already been registered\n",
      "2023-12-12 11:00:54.354937: E tensorflow/compiler/xla/stream_executor/cuda/cuda_fft.cc:609] Unable to register cuFFT factory: Attempting to register factory for plugin cuFFT when one has already been registered\n",
      "2023-12-12 11:00:54.354980: E tensorflow/compiler/xla/stream_executor/cuda/cuda_blas.cc:1518] Unable to register cuBLAS factory: Attempting to register factory for plugin cuBLAS when one has already been registered\n",
      "Overriding model.yaml nc=80 with nc=1\n",
      "\n",
      "                   from  n    params  module                                       arguments                     \n",
      "  0                  -1  1       464  ultralytics.nn.modules.conv.Conv             [3, 16, 3, 2]                 \n",
      "  1                  -1  1      4672  ultralytics.nn.modules.conv.Conv             [16, 32, 3, 2]                \n",
      "  2                  -1  1      7360  ultralytics.nn.modules.block.C2f             [32, 32, 1, True]             \n",
      "  3                  -1  1     18560  ultralytics.nn.modules.conv.Conv             [32, 64, 3, 2]                \n",
      "  4                  -1  2     49664  ultralytics.nn.modules.block.C2f             [64, 64, 2, True]             \n",
      "  5                  -1  1     73984  ultralytics.nn.modules.conv.Conv             [64, 128, 3, 2]               \n",
      "  6                  -1  2    197632  ultralytics.nn.modules.block.C2f             [128, 128, 2, True]           \n",
      "  7                  -1  1    295424  ultralytics.nn.modules.conv.Conv             [128, 256, 3, 2]              \n",
      "  8                  -1  1    460288  ultralytics.nn.modules.block.C2f             [256, 256, 1, True]           \n",
      "  9                  -1  1    164608  ultralytics.nn.modules.block.SPPF            [256, 256, 5]                 \n",
      " 10                  -1  1         0  torch.nn.modules.upsampling.Upsample         [None, 2, 'nearest']          \n",
      " 11             [-1, 6]  1         0  ultralytics.nn.modules.conv.Concat           [1]                           \n",
      " 12                  -1  1    148224  ultralytics.nn.modules.block.C2f             [384, 128, 1]                 \n",
      " 13                  -1  1         0  torch.nn.modules.upsampling.Upsample         [None, 2, 'nearest']          \n",
      " 14             [-1, 4]  1         0  ultralytics.nn.modules.conv.Concat           [1]                           \n",
      " 15                  -1  1     37248  ultralytics.nn.modules.block.C2f             [192, 64, 1]                  \n",
      " 16                  -1  1     36992  ultralytics.nn.modules.conv.Conv             [64, 64, 3, 2]                \n",
      " 17            [-1, 12]  1         0  ultralytics.nn.modules.conv.Concat           [1]                           \n",
      " 18                  -1  1    123648  ultralytics.nn.modules.block.C2f             [192, 128, 1]                 \n",
      " 19                  -1  1    147712  ultralytics.nn.modules.conv.Conv             [128, 128, 3, 2]              \n",
      " 20             [-1, 9]  1         0  ultralytics.nn.modules.conv.Concat           [1]                           \n",
      " 21                  -1  1    493056  ultralytics.nn.modules.block.C2f             [384, 256, 1]                 \n",
      " 22        [15, 18, 21]  1    751507  ultralytics.nn.modules.head.Detect           [1, [64, 128, 256]]           \n",
      "Model summary: 225 layers, 3011043 parameters, 3011027 gradients, 8.2 GFLOPs\n",
      "\n",
      "Transferred 319/355 items from pretrained weights\n",
      "ClearML Task: created new task id=96260df327c447a48b4e959d3ded638e\n",
      "2023-12-12 11:01:01,219 - clearml.Task - INFO - No repository found, storing script code instead\n",
      "ClearML results page: https://app.clear.ml/projects/eebd747872564ba1a88240712feb86af/experiments/96260df327c447a48b4e959d3ded638e/output/log\n",
      "ClearML Initialized a new task. If you want to run remotely, please add clearml-init and connect your arguments before initializing YOLO.\n",
      "\u001B[34m\u001B[1mTensorBoard: \u001B[0mStart with 'tensorboard --logdir Solar-Panel-Detector/mosaic-and-mixup-0.5-augmentation4', view at http://localhost:6006/\n",
      "Freezing layer 'model.22.dfl.conv.weight'\n",
      "\u001B[34m\u001B[1mAMP: \u001B[0mrunning Automatic Mixed Precision (AMP) checks with YOLOv8n...\n",
      "\u001B[34m\u001B[1mAMP: \u001B[0mchecks passed ✅\n",
      "WARNING ⚠️ imgsz=[680] must be multiple of max stride 32, updating to [704]\n",
      "\u001B[34m\u001B[1mtrain: \u001B[0mScanning /content/solar-panel-detection-1/train/labels.cache... 17774 images, 0 backgrounds, 0 corrupt: 100% 17774/17774 [00:00<?, ?it/s]\n",
      "\u001B[34m\u001B[1malbumentations: \u001B[0mBlur(p=0.01, blur_limit=(3, 7)), MedianBlur(p=0.01, blur_limit=(3, 7)), ToGray(p=0.01), CLAHE(p=0.01, clip_limit=(1, 4.0), tile_grid_size=(8, 8))\n",
      "\u001B[34m\u001B[1mval: \u001B[0mScanning /content/solar-panel-detection-1/valid/labels.cache... 1697 images, 0 backgrounds, 0 corrupt: 100% 1697/1697 [00:00<?, ?it/s]\n",
      "Plotting labels to Solar-Panel-Detector/mosaic-and-mixup-0.5-augmentation4/labels.jpg... \n",
      "\u001B[34m\u001B[1moptimizer:\u001B[0m 'optimizer=auto' found, ignoring 'lr0=0.01' and 'momentum=0.937' and determining best 'optimizer', 'lr0' and 'momentum' automatically... \n",
      "\u001B[34m\u001B[1moptimizer:\u001B[0m AdamW(lr=0.002, momentum=0.9) with parameter groups 57 weight(decay=0.0), 64 weight(decay=0.0005), 63 bias(decay=0.0)\n",
      "Image sizes 704 train, 704 val\n",
      "Using 2 dataloader workers\n",
      "Logging results to \u001B[1mSolar-Panel-Detector/mosaic-and-mixup-0.5-augmentation4\u001B[0m\n",
      "Starting training for 20 epochs...\n",
      "\n",
      "      Epoch    GPU_mem   box_loss   cls_loss   dfl_loss  Instances       Size\n",
      "       1/20      3.97G      1.682      2.366      1.546        181        704:  24% 262/1111 [02:46<06:59,  2.03it/s]ClearML Monitor: Could not detect iteration reporting, falling back to iterations as seconds-from-start\n",
      "       1/20      3.97G      1.533      1.818      1.407        263        704: 100% 1111/1111 [11:30<00:00,  1.61it/s]\n",
      "                 Class     Images  Instances      Box(P          R      mAP50  mAP50-95): 100% 54/54 [00:25<00:00,  2.15it/s]\n",
      "                   all       1697      13790      0.646      0.541      0.564       0.37\n",
      "\n",
      "      Epoch    GPU_mem   box_loss   cls_loss   dfl_loss  Instances       Size\n",
      "       2/20      4.38G      1.465      1.523       1.35        181        704: 100% 1111/1111 [11:21<00:00,  1.63it/s]\n",
      "                 Class     Images  Instances      Box(P          R      mAP50  mAP50-95): 100% 54/54 [00:27<00:00,  1.95it/s]\n",
      "                   all       1697      13790      0.672      0.565      0.604      0.403\n",
      "\n",
      "      Epoch    GPU_mem   box_loss   cls_loss   dfl_loss  Instances       Size\n",
      "       3/20      4.43G      1.425      1.446      1.328        115        704: 100% 1111/1111 [11:50<00:00,  1.56it/s]\n",
      "                 Class     Images  Instances      Box(P          R      mAP50  mAP50-95): 100% 54/54 [00:23<00:00,  2.25it/s]\n",
      "                   all       1697      13790      0.728      0.592      0.657      0.453\n",
      "\n",
      "      Epoch    GPU_mem   box_loss   cls_loss   dfl_loss  Instances       Size\n",
      "       4/20       4.7G      1.379       1.38      1.299        173        704: 100% 1111/1111 [11:58<00:00,  1.55it/s]\n",
      "                 Class     Images  Instances      Box(P          R      mAP50  mAP50-95): 100% 54/54 [00:23<00:00,  2.30it/s]\n",
      "                   all       1697      13790      0.723      0.614      0.672      0.464\n",
      "\n",
      "      Epoch    GPU_mem   box_loss   cls_loss   dfl_loss  Instances       Size\n",
      "       5/20      4.34G       1.34      1.325      1.277        162        704: 100% 1111/1111 [11:56<00:00,  1.55it/s]\n",
      "                 Class     Images  Instances      Box(P          R      mAP50  mAP50-95): 100% 54/54 [00:24<00:00,  2.23it/s]\n",
      "                   all       1697      13790       0.75      0.656      0.714      0.509\n",
      "\n",
      "      Epoch    GPU_mem   box_loss   cls_loss   dfl_loss  Instances       Size\n",
      "       6/20      4.41G      1.328      1.307      1.267        163        704:  30% 338/1111 [03:38<09:45,  1.32it/s]"
     ]
    }
   ]
  }
 ]
}
